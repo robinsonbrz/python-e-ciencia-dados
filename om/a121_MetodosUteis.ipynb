{
 "cells": [
  {
   "cell_type": "code",
   "execution_count": 3,
   "metadata": {},
   "outputs": [
    {
     "name": "stdout",
     "output_type": "stream",
     "text": [
      "900\n",
      "['nome', 'sobrenome', 'idade']\n"
     ]
    }
   ],
   "source": [
    "# Métodos úteis dos dicionários em Python\n",
    "# len - quantas chaves - len não é um objeto da classe dict\n",
    "# A função len () é uma das funções internas do Python. \n",
    "# Ela retorna o comprimento de um objeto, \n",
    "# keys - iterável com as chaves\n",
    "# values - iterável com os valores\n",
    "# items - iterável com chaves e valores\n",
    "# setdefault - adiciona valor se a chave não existe\n",
    "# copy - retorna uma cópia rasa (shallow copy)\n",
    "#           copy faz uma cópia rasa- aponta para o mesmo objetos internos\n",
    "# mutáveis copiam shallow copy\n",
    "# get - obtém uma chave\n",
    "# pop - Apaga um item com a chave especificada (del)\n",
    "# popitem - Apaga o último item adicionado\n",
    "# update - Atualiza um dicionário com outro\n",
    "pessoa = {\n",
    "    'nome': 'Luiz Otávio',\n",
    "    'sobrenome': 'Miranda',\n",
    "    'idade': 900,\n",
    "}\n",
    "\n",
    "pessoa.setdefault('idade', 0)\n",
    "print(pessoa['idade'])\n",
    "# print(len(pessoa))\n",
    "print(list(pessoa.keys()))\n",
    "# print(list(pessoa.values()))\n",
    "# print(list(pessoa.items()))\n",
    "\n",
    "# for valor in pessoa.values():\n",
    "#     print(valor)\n",
    "\n",
    "# for chave, valor in pessoa.items():\n",
    "#     print(chave, valor)"
   ]
  }
 ],
 "metadata": {
  "kernelspec": {
   "display_name": ".venv",
   "language": "python",
   "name": "python3"
  },
  "language_info": {
   "codemirror_mode": {
    "name": "ipython",
    "version": 3
   },
   "file_extension": ".py",
   "mimetype": "text/x-python",
   "name": "python",
   "nbconvert_exporter": "python",
   "pygments_lexer": "ipython3",
   "version": "3.7.15"
  },
  "orig_nbformat": 4
 },
 "nbformat": 4,
 "nbformat_minor": 2
}
