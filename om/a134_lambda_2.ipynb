{
 "cells": [
  {
   "cell_type": "code",
   "execution_count": 2,
   "metadata": {},
   "outputs": [
    {
     "name": "stdout",
     "output_type": "stream",
     "text": [
      "18\n",
      "5\n",
      "28\n"
     ]
    }
   ],
   "source": [
    "# sintaxe da lambda\n",
    "# lambda parametro: retorno\n",
    "\n",
    "def executa(funcao, *args):\n",
    "    return funcao(*args)\n",
    "\n",
    "# def soma(x, y):\n",
    "#     return x + y\n",
    "\n",
    "# def cria_multiplicador(multiplicador):\n",
    "#     def multiplica(numero):\n",
    "#         return numero * multiplicador\n",
    "#     return multiplica\n",
    "\n",
    "\n",
    "# duplica = cria_multiplicador(2)\n",
    "duplica = executa(\n",
    "    lambda m: lambda n: n * m,\n",
    "    9\n",
    ")\n",
    "print(duplica(2))\n",
    "\n",
    "print(\n",
    "    executa(\n",
    "        lambda x, y: x + y,\n",
    "        2, 3\n",
    "    ),\n",
    ")\n",
    "\n",
    "print(\n",
    "    executa(\n",
    "        lambda *args: sum(args),\n",
    "        1, 2, 3, 4, 5, 6, 7\n",
    "    )\n",
    ")"
   ]
  },
  {
   "attachments": {},
   "cell_type": "markdown",
   "metadata": {},
   "source": []
  }
 ],
 "metadata": {
  "kernelspec": {
   "display_name": ".venv",
   "language": "python",
   "name": "python3"
  },
  "language_info": {
   "codemirror_mode": {
    "name": "ipython",
    "version": 3
   },
   "file_extension": ".py",
   "mimetype": "text/x-python",
   "name": "python",
   "nbconvert_exporter": "python",
   "pygments_lexer": "ipython3",
   "version": "3.7.15"
  },
  "orig_nbformat": 4
 },
 "nbformat": 4,
 "nbformat_minor": 2
}
