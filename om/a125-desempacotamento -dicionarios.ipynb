{
 "cells": [
  {
   "cell_type": "code",
   "execution_count": 10,
   "metadata": {},
   "outputs": [
    {
     "name": "stdout",
     "output_type": "stream",
     "text": [
      "('nome', 'Aline') ('sobrenome', 'Souza')\n",
      "nome sobrenome\n",
      "Aline Souza\n",
      "{'nome': 'Aline', 'sobrenome': 'Souza', 'idade': 16, 'altura': 1.6}\n",
      "NÃO NOMEADOS: ()\n",
      "nome Joana\n",
      "qlq 123\n",
      "NÃO NOMEADOS: ()\n",
      "nome Aline\n",
      "sobrenome Souza\n",
      "idade 16\n",
      "altura 1.6\n",
      "NÃO NOMEADOS: ()\n",
      "arg1 1\n",
      "arg2 2\n",
      "arg3 3\n",
      "arg4 4\n"
     ]
    }
   ],
   "source": [
    "# Empacotamento e desempacotamento de dicionários\n",
    "a, b = 1, 2\n",
    "a, b = b, a\n",
    "# print(a, b)\n",
    "\n",
    "\n",
    "# (a1, a2), (b1, b2) = pessoa.items()\n",
    "# print(a1, a2)\n",
    "# print(b1, b2)\n",
    "\n",
    "# for chave, valor in pessoa.items():\n",
    "#     print(chave, valor)\n",
    "\n",
    "pessoa = {\n",
    "    'nome': 'Aline',\n",
    "    'sobrenome': 'Souza',\n",
    "}\n",
    "\n",
    "a, b = pessoa.items()\n",
    "print(a, b)  # ('nome', 'Aline') ('sobrenome', 'Souza')\n",
    "\n",
    "a, b = pessoa\n",
    "print(a, b)  # nome sobrenome\n",
    "\n",
    "a, b = pessoa.values()\n",
    "print(a, b)  # Aline Souza\n",
    "\n",
    "dados_pessoa = {\n",
    "    'idade': 16,\n",
    "    'altura': 1.6,\n",
    "}\n",
    "\n",
    "pessoas_completa = {**pessoa, **dados_pessoa}\n",
    "# desempacotando dois dicionarios em um só\n",
    "# {'nome': 'Aline', 'sobrenome': 'Souza', 'idade': 16, 'altura': 1.6}\n",
    "print(pessoas_completa)\n",
    "\n",
    "# args e kwargs\n",
    "# args (já vimos)\n",
    "# kwargs - keyword arguments (argumentos nomeados)\n",
    "\n",
    "\n",
    "def mostro_argumentos_nomeados(*args, **kwargs):\n",
    "    print('NÃO NOMEADOS:', args)\n",
    "\n",
    "    for chave, valor in kwargs.items():\n",
    "        print(chave, valor)\n",
    "\n",
    "mostro_argumentos_nomeados(nome='Joana', qlq=123)\n",
    "# NÃO NOMEADOS: ()\n",
    "# nome Joana\n",
    "# qlq 123\n",
    "# NÃO NOMEADOS: ()\n",
    "\n",
    "mostro_argumentos_nomeados(**pessoas_completa)\n",
    "# NÃO NOMEADOS: ()\n",
    "# nome Aline\n",
    "# sobrenome Souza\n",
    "# idade 16\n",
    "# altura 1.6\n",
    "\n",
    "configuracoes = {\n",
    "    'arg1': 1,\n",
    "    'arg2': 2,\n",
    "    'arg3': 3,\n",
    "    'arg4': 4,\n",
    "}\n",
    "mostro_argumentos_nomeados(**configuracoes)\n",
    "# NÃO NOMEADOS: ()\n",
    "# arg1 1\n",
    "# arg2 2\n",
    "# arg3 3\n",
    "# arg4 4"
   ]
  },
  {
   "attachments": {},
   "cell_type": "markdown",
   "metadata": {},
   "source": [
    "Single quotation marks are used in the Python dict string, while double quotation marks are required in JSON1."
   ]
  }
 ],
 "metadata": {
  "kernelspec": {
   "display_name": ".venv",
   "language": "python",
   "name": "python3"
  },
  "language_info": {
   "codemirror_mode": {
    "name": "ipython",
    "version": 3
   },
   "file_extension": ".py",
   "mimetype": "text/x-python",
   "name": "python",
   "nbconvert_exporter": "python",
   "pygments_lexer": "ipython3",
   "version": "3.7.15"
  },
  "orig_nbformat": 4
 },
 "nbformat": 4,
 "nbformat_minor": 2
}
