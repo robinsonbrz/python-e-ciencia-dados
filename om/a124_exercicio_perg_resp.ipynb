{
 "cells": [
  {
   "cell_type": "code",
   "execution_count": 1,
   "metadata": {},
   "outputs": [],
   "source": [
    "# Exercício - sistema de perguntas e respostas\n",
    "perguntas = [\n",
    "    {\n",
    "        'Pergunta': 'Quanto é 2+2?',\n",
    "        'Opções': ['1', '3', '4', '5'],\n",
    "        'Resposta': '4',\n",
    "    },\n",
    "    {\n",
    "        'Pergunta': 'Quanto é 5*5?',\n",
    "        'Opções': ['25', '55', '10', '51'],\n",
    "        'Resposta': '25',\n",
    "    },\n",
    "    {\n",
    "        'Pergunta': 'Quanto é 10/2?',\n",
    "        'Opções': ['4', '5', '2', '1'],\n",
    "        'Resposta': '5',\n",
    "    },\n",
    "]\n"
   ]
  },
  {
   "cell_type": "code",
   "execution_count": 29,
   "metadata": {},
   "outputs": [
    {
     "name": "stdout",
     "output_type": "stream",
     "text": [
      "aqui\n",
      "Quanto é 2+2?\n",
      "0) 1\n",
      "1) 3\n",
      "2) 4\n",
      "3) 5\n",
      "Resposta correta\n",
      "Quanto é 5*5?\n",
      "0) 25\n",
      "1) 55\n",
      "2) 10\n",
      "3) 51\n",
      "Resposta errada\n",
      "Quanto é 10/2?\n",
      "0) 4\n",
      "1) 5\n",
      "2) 2\n",
      "3) 1\n",
      "Resposta errada\n",
      "Você acertou 1 questões !\n"
     ]
    }
   ],
   "source": [
    "print(\"aqui\")\n",
    "respostas_corretas = 0\n",
    "for numero, i in enumerate(perguntas):\n",
    "    # exibir a questão\n",
    "    print(perguntas[numero].get(\"Pergunta\"))\n",
    "    # exibir opções\n",
    "    for num_opcao, opcao in enumerate(perguntas[numero].get(\"Opções\")):\n",
    "        print(f\"{num_opcao}) {opcao}\")\n",
    "    # solicitar resposta do usuario\n",
    "    resposta_escolhida = int(input(\"A escolha o opção correta de 0 a 3: \"))\n",
    "    # verificar resposta certa ou errada\n",
    "    if perguntas[numero].get(\"Opções\")[resposta_escolhida] == perguntas[numero].get(\"Resposta\"):\n",
    "        print(\"Resposta correta\")\n",
    "        respostas_corretas += 1\n",
    "    else:\n",
    "        print(\"Resposta errada\")\n",
    "\n",
    "print(f\"Você acertou {respostas_corretas} questões !\")\n"
   ]
  },
  {
   "cell_type": "code",
   "execution_count": null,
   "metadata": {},
   "outputs": [],
   "source": []
  }
 ],
 "metadata": {
  "kernelspec": {
   "display_name": ".venv",
   "language": "python",
   "name": "python3"
  },
  "language_info": {
   "codemirror_mode": {
    "name": "ipython",
    "version": 3
   },
   "file_extension": ".py",
   "mimetype": "text/x-python",
   "name": "python",
   "nbconvert_exporter": "python",
   "pygments_lexer": "ipython3",
   "version": "3.10.4"
  },
  "orig_nbformat": 4
 },
 "nbformat": 4,
 "nbformat_minor": 2
}
