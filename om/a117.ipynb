{
 "cells": [
  {
   "cell_type": "code",
   "execution_count": 9,
   "metadata": {},
   "outputs": [
    {
     "name": "stdout",
     "output_type": "stream",
     "text": [
      "5 x 2\n",
      "Duplicando por closure 10\n",
      "8 x 4\n",
      "Quadruplicando por closure 32\n",
      "multiplicador variavel 20\n",
      "4\n",
      "12\n",
      "8\n"
     ]
    }
   ],
   "source": [
    "#  funções que duplicam, triplicam e quadruplicam\n",
    "\n",
    "\n",
    "# Implementação com closure \n",
    "def criar_multiplicador(multiplicador):\n",
    "    def multiplicar(x):\n",
    "        print(f'{multiplicador}x{x}')\n",
    "        return x * multiplicador\n",
    "    return multiplicar\n",
    "\n",
    "\n",
    "duplicar = criar_multiplicador(2)\n",
    "quadruplicar = criar_multiplicador(4)\n",
    "\n",
    "print('Duplicando por closure', duplicar(5))\n",
    "print('Quadruplicando por closure', quadruplicar(8))\n",
    "\n",
    "triplicar = criar_multiplicador(3)\n",
    "\n",
    "# ____________________________________________________\n",
    "\n",
    "# Implementação com multiplicador variavel\n",
    "def multiplicar(multiplicando, multiplicador):\n",
    "    return multiplicando * multiplicador\n",
    "\n",
    "print('multiplicador variavel', multiplicar(5, 4))\n",
    "\n",
    "# ____________________________________________________\n",
    "#  Implementação simples\n",
    "def duplicar(x):\n",
    "    return 2 * x\n",
    "\n",
    "def triplicar(x):\n",
    "    return 3 * x\n",
    "\n",
    "def quadruplicar(x):\n",
    "    return 4 * x\n",
    "\n",
    "print(duplicar(2))\n",
    "print(triplicar(4))\n",
    "print(quadruplicar(2))\n",
    "\n"
   ]
  }
 ],
 "metadata": {
  "kernelspec": {
   "display_name": ".venv",
   "language": "python",
   "name": "python3"
  },
  "language_info": {
   "codemirror_mode": {
    "name": "ipython",
    "version": 3
   },
   "file_extension": ".py",
   "mimetype": "text/x-python",
   "name": "python",
   "nbconvert_exporter": "python",
   "pygments_lexer": "ipython3",
   "version": "3.7.15"
  },
  "orig_nbformat": 4
 },
 "nbformat": 4,
 "nbformat_minor": 2
}
