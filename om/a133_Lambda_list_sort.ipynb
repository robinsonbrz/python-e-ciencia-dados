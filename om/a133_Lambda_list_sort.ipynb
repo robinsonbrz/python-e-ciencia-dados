{
 "cells": [
  {
   "attachments": {},
   "cell_type": "markdown",
   "metadata": {},
   "source": [
    "# Introdução à função lambda (função anônima de uma linha)\n",
    "# A função lambda é uma função como qualquer\n",
    "# outra em Python. Porém, são funções anônimas\n",
    "# que contém apenas uma linha. Ou seja, tudo\n",
    "# deve ser contido dentro de uma única\n",
    "# expressão.\n",
    "# lista = [\n",
    "#     {'nome': 'Luiz', 'sobrenome': 'miranda'},\n",
    "#     {'nome': 'Maria', 'sobrenome': 'Oliveira'},\n",
    "#     {'nome': 'Daniel', 'sobrenome': 'Silva'},\n",
    "#     {'nome': 'Eduardo', 'sobrenome': 'Moreira'},\n",
    "#     {'nome': 'Aline', 'sobrenome': 'Souza'},\n",
    "# ]\n",
    "# lista = [4, 32, 1, 34, 5, 6, 6, 21, ]\n",
    "# lista.sort(reverse=True)  # sort ordena - reverse decrescente\n",
    "# sorted(lista)"
   ]
  },
  {
   "cell_type": "code",
   "execution_count": 5,
   "metadata": {},
   "outputs": [],
   "source": [
    "lista = [\n",
    "    {'nome': 'Luiz', 'sobrenome': 'miranda'},\n",
    "    {'nome': 'Maria', 'sobrenome': 'Oliveira'},\n",
    "    {'nome': 'Daniel', 'sobrenome': 'Silva'},\n",
    "    {'nome': 'Eduardo', 'sobrenome': 'Moreira'},\n",
    "    {'nome': 'Aline', 'sobrenome': 'Souza'},\n",
    "]"
   ]
  },
  {
   "cell_type": "code",
   "execution_count": 6,
   "metadata": {},
   "outputs": [
    {
     "name": "stdout",
     "output_type": "stream",
     "text": [
      "{'nome': 'Eduardo', 'sobrenome': 'Moreira'}\n",
      "{'nome': 'Maria', 'sobrenome': 'Oliveira'}\n",
      "{'nome': 'Daniel', 'sobrenome': 'Silva'}\n",
      "{'nome': 'Aline', 'sobrenome': 'Souza'}\n",
      "{'nome': 'Luiz', 'sobrenome': 'miranda'}\n"
     ]
    }
   ],
   "source": [
    "# função que envia qual será o índice de ordenação do item\n",
    "def ordena(item):\n",
    "    return item['sobrenome']\n",
    "\n",
    "# passando a função com a chave como parâmetro\n",
    "lista.sort(key=ordena)\n",
    "\n",
    "for item in lista:\n",
    "    print(item)"
   ]
  },
  {
   "cell_type": "code",
   "execution_count": 16,
   "metadata": {},
   "outputs": [
    {
     "name": "stdout",
     "output_type": "stream",
     "text": [
      "{'nome': 'Aline', 'sobrenome': 'Souza'}\n",
      "{'nome': 'Daniel', 'sobrenome': 'Silva'}\n",
      "{'nome': 'Eduardo', 'sobrenome': 'Moreira'}\n",
      "{'nome': 'Luiz', 'sobrenome': 'miranda'}\n",
      "{'nome': 'Maria', 'sobrenome': 'Oliveira'}\n"
     ]
    }
   ],
   "source": [
    "# lambda é uma função de uma unica linha\n",
    "#lambda item: item['nome']\n",
    "\n",
    "# passando a função lambda como parâmetro\n",
    "lista.sort(key=lambda item: item['nome'])\n",
    "\n",
    "for item in lista:\n",
    "    print(item)\n",
    "# método sorted retorna uma cópia rasa da lista\n",
    "sorted()"
   ]
  },
  {
   "cell_type": "code",
   "execution_count": 12,
   "metadata": {},
   "outputs": [
    {
     "name": "stdout",
     "output_type": "stream",
     "text": [
      "{'nome': 'Aline', 'sobrenome': 'Souza'}\n",
      "{'nome': 'Daniel', 'sobrenome': 'Silva'}\n",
      "{'nome': 'Eduardo', 'sobrenome': 'Moreira'}\n",
      "{'nome': 'Luiz', 'sobrenome': 'miranda'}\n",
      "{'nome': 'Maria', 'sobrenome': 'Oliveira'}\n",
      "\n",
      "**************************************************\n",
      "{'nome': 'Eduardo', 'sobrenome': 'Moreira'}\n",
      "{'nome': 'Maria', 'sobrenome': 'Oliveira'}\n",
      "{'nome': 'Daniel', 'sobrenome': 'Silva'}\n",
      "{'nome': 'Aline', 'sobrenome': 'Souza'}\n",
      "{'nome': 'Luiz', 'sobrenome': 'miranda'}\n",
      "\n"
     ]
    }
   ],
   "source": [
    "# ordenando lista de dicionarios\n",
    "def exibir(lista):\n",
    "    for item in lista:\n",
    "        print(item)\n",
    "    print()\n",
    "\n",
    "l1 = sorted(lista, key=lambda item: item['nome'])\n",
    "l2 = sorted(lista, key=lambda item: item['sobrenome'])\n",
    "\n",
    "exibir(l1)\n",
    "print(50*\"*\")\n",
    "\n",
    "exibir(l2)"
   ]
  }
 ],
 "metadata": {
  "kernelspec": {
   "display_name": ".venv",
   "language": "python",
   "name": "python3"
  },
  "language_info": {
   "codemirror_mode": {
    "name": "ipython",
    "version": 3
   },
   "file_extension": ".py",
   "mimetype": "text/x-python",
   "name": "python",
   "nbconvert_exporter": "python",
   "pygments_lexer": "ipython3",
   "version": "3.7.15"
  },
  "orig_nbformat": 4
 },
 "nbformat": 4,
 "nbformat_minor": 2
}
