{
 "cells": [
  {
   "cell_type": "code",
   "execution_count": null,
   "metadata": {},
   "outputs": [],
   "source": [
    "# Sets - Conjuntos em Python (tipo set)\n",
    "# Conjuntos são ensinados na matemática\n",
    "# https://brasilescola.uol.com.br/matematica/conjunto.htm\n",
    "# Representados graficamente pelo diagrama de Venn\n",
    "# Sets em Python são mutáveis, porém aceitam apenas\n",
    "# tipos imutáveis como valor interno.\n",
    "\n",
    "# Criando um set\n",
    "# set(iterável) ou {1, 2, 3}\n",
    "# s1 = set('Luiz')\n",
    "# s1 = set()  # vazio\n",
    "# s1 = {'Luiz', 1, 2, 3}  # com dados\n",
    "\n",
    "# Sets são eficientes para remover valores duplicados\n",
    "# de iteráveis.\n",
    "# - Seus valores serão sempre únicos;\n",
    "# - Não aceitam valores mutáveis;\n",
    "# - não tem índexes;\n",
    "# - não garantem ordem;\n",
    "# - são iteráveis (for, in, not in)\n",
    "# l1 = [1, 2, 3, 3, 3, 3, 3, 1]\n",
    "# s1 = set(l1)\n",
    "# l2 = list(s1)\n",
    "# s1 = {1, 2, 3}\n",
    "# print(3 not in s1)\n",
    "# for numero in s1:\n",
    "#     print(numero)\n",
    "\n",
    "# Métodos úteis:\n",
    "# add, update, clear, discard\n",
    "s1 = set()\n",
    "s1.add('Luiz')\n",
    "s1.add(1)\n",
    "s1.update(('Olá mundo', 1, 2, 3, 4))\n",
    "# s1.clear()\n",
    "s1.discard('Olá mundo')\n",
    "s1.discard('Luiz')\n",
    "# print(s1)\n",
    "\n",
    "# Operadores úteis:\n",
    "# união | união (union) - Une\n",
    "# intersecção & (intersection) - Itens presentes em ambos\n",
    "# diferença - Itens presentes apenas no set da esquerda\n",
    "# diferença simétrica ^ - Itens que não estão em ambos\n",
    "s1 = {1, 2, 3}\n",
    "s2 = {2, 3, 4}\n",
    "s3 = s1 | s2\n",
    "s3 = s1 & s2\n",
    "s3 = s2 - s1\n",
    "s3 = s1 ^ s2\n",
    "print(s3)"
   ]
  },
  {
   "cell_type": "code",
   "execution_count": 1,
   "metadata": {},
   "outputs": [],
   "source": [
    "s1 = {1, 2, 3}\n",
    "s2 = {2, 3, 4}"
   ]
  },
  {
   "cell_type": "code",
   "execution_count": 2,
   "metadata": {},
   "outputs": [
    {
     "name": "stdout",
     "output_type": "stream",
     "text": [
      "s4{1, 2, 3, 4} \n",
      "s5{1, 2, 3, 4}\n"
     ]
    }
   ],
   "source": [
    "# contains all elements from sets s1 and s2\n",
    "s4 = s1.union(s2)\n",
    "s5 = s1 | s2\n",
    "print(f\"s4{s4} \\ns5{s5}\")\n"
   ]
  },
  {
   "cell_type": "code",
   "execution_count": 3,
   "metadata": {},
   "outputs": [
    {
     "name": "stdout",
     "output_type": "stream",
     "text": [
      "s4{2, 3} \n",
      "s5{2, 3}\n"
     ]
    }
   ],
   "source": [
    "\n",
    "s1 = {1, 2, 3}\n",
    "s2 = {2, 3, 4}\n",
    "# contains that are common to both sets s1 and s2\n",
    "s4 = s1.intersection(s2)         # presente em ambos os set\n",
    "s5 = s1 & s2               \n",
    "print(f\"s4{s4} \\ns5{s5}\")\n"
   ]
  },
  {
   "cell_type": "code",
   "execution_count": 4,
   "metadata": {},
   "outputs": [
    {
     "name": "stdout",
     "output_type": "stream",
     "text": [
      "s4{1, 4} \n",
      "s5{1, 4}\n"
     ]
    }
   ],
   "source": [
    "s1 = {1, 2, 3}\n",
    "s2 = {2, 3, 4}\n",
    "# contains elements that are in either s1 or s2, but not in both\n",
    "s4 = s1.symmetric_difference(s2) # \n",
    "s5 = s2 ^ s1\n",
    "print(f\"s4{s4} \\ns5{s5}\")\n"
   ]
  },
  {
   "cell_type": "code",
   "execution_count": 5,
   "metadata": {},
   "outputs": [
    {
     "name": "stdout",
     "output_type": "stream",
     "text": [
      "s4{4} \n",
      "s5{4}\n"
     ]
    }
   ],
   "source": [
    "s1 = {1, 2, 3}\n",
    "s2 = {2, 3, 4}\n",
    "# are in s2 but not in s1\n",
    "s4 = s2.difference(s1)\n",
    "s5 = s2 - s1      \n",
    "print(f\"s4{s4} \\ns5{s5}\")"
   ]
  }
 ],
 "metadata": {
  "kernelspec": {
   "display_name": ".venv",
   "language": "python",
   "name": "python3"
  },
  "language_info": {
   "codemirror_mode": {
    "name": "ipython",
    "version": 3
   },
   "file_extension": ".py",
   "mimetype": "text/x-python",
   "name": "python",
   "nbconvert_exporter": "python",
   "pygments_lexer": "ipython3",
   "version": "3.10.4"
  },
  "orig_nbformat": 4
 },
 "nbformat": 4,
 "nbformat_minor": 2
}
