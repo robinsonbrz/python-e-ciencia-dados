{
 "cells": [
  {
   "attachments": {},
   "cell_type": "markdown",
   "metadata": {},
   "source": [
    "\"\"\"\n",
    "Exercício\n",
    "Crie uma função que encontra o primeiro duplicado considerando o segundo\n",
    "número como a duplicação. Retorne a duplicação considerada.\n",
    "Requisitos:\n",
    "    A ordem do número duplicado é considerada a partir da segunda\n",
    "    ocorrência do número, ou seja, o número duplicado em si.\n",
    "    Exemplo:\n",
    "        [1, 2, 3, ->3<-, 2, 1] -> 1, 2 e 3 são duplicados (retorne 3)\n",
    "        [1, 2, 3, 4, 5, 6] -> Retorne -1 (não tem duplicados)\n",
    "        [1, 4, 9, 8, ->9<-, 4, 8] (retorne 9)\n",
    "    Se não encontrar duplicados na lista, retorne -1\n",
    "\"\"\""
   ]
  },
  {
   "cell_type": "code",
   "execution_count": 2,
   "metadata": {},
   "outputs": [],
   "source": [
    "lista_de_listas_de_inteiros = [\n",
    "    [1, 2, 3, 4, 5, 6, 7, 8, 9, 10],\n",
    "    [9, 1, 8, 9, 9, 7, 2, 1, 6, 8],\n",
    "    [1, 3, 2, 2, 8, 6, 5, 9, 6, 7],\n",
    "    [3, 8, 2, 8, 6, 7, 7, 3, 1, 9],\n",
    "    [4, 8, 8, 8, 5, 1, 10, 3, 1, 7],\n",
    "    [1, 3, 7, 2, 2, 1, 5, 1, 9, 9],\n",
    "    [10, 2, 2, 1, 3, 5, 10, 5, 10, 1],\n",
    "    [1, 6, 1, 5, 1, 1, 1, 4, 7, 3],\n",
    "    [1, 3, 7, 1, 10, 5, 9, 2, 5, 7],\n",
    "    [4, 7, 6, 5, 2, 9, 2, 1, 2, 1],\n",
    "    [5, 3, 1, 8, 5, 7, 1, 8, 8, 7],\n",
    "    [10, 9, 8, 7, 6, 5, 4, 3, 2, 1],\n",
    "]"
   ]
  },
  {
   "cell_type": "code",
   "execution_count": 40,
   "metadata": {},
   "outputs": [
    {
     "name": "stdout",
     "output_type": "stream",
     "text": [
      "[1, 2, 3, 4, 5, 6, 7, 8, 9, 10]\n",
      "-1 -1 -1\n",
      "[9, 1, 8, 9, 9, 7, 2, 1, 6, 8]\n",
      "9 9 9\n",
      "[1, 3, 2, 2, 8, 6, 5, 9, 6, 7]\n",
      "2 2 2\n",
      "[3, 8, 2, 8, 6, 7, 7, 3, 1, 9]\n",
      "3 8 3\n",
      "[4, 8, 8, 8, 5, 1, 10, 3, 1, 7]\n",
      "8 8 8\n",
      "[1, 3, 7, 2, 2, 1, 5, 1, 9, 9]\n",
      "1 2 1\n",
      "[10, 2, 2, 1, 3, 5, 10, 5, 10, 1]\n",
      "10 2 10\n",
      "[1, 6, 1, 5, 1, 1, 1, 4, 7, 3]\n",
      "1 1 1\n",
      "[1, 3, 7, 1, 10, 5, 9, 2, 5, 7]\n",
      "1 1 1\n",
      "[4, 7, 6, 5, 2, 9, 2, 1, 2, 1]\n",
      "2 2 2\n",
      "[5, 3, 1, 8, 5, 7, 1, 8, 8, 7]\n",
      "5 5 5\n",
      "[10, 9, 8, 7, 6, 5, 4, 3, 2, 1]\n",
      "-1 -1 -1\n"
     ]
    }
   ],
   "source": [
    "# resolução 03\n",
    "def retorna_primeiro_int_duplicado_com_set(lista):\n",
    "    numeros_checados = set()\n",
    "\n",
    "    for num in lista:\n",
    "        if num in numeros_checados:\n",
    "            return num\n",
    "        numeros_checados.add(num)\n",
    "    return -1\n",
    "\n",
    "# resolução 02\n",
    "def retorna_primeiro_int_duplicado(lista):\n",
    "    for i, iterador_1 in enumerate(lista):\n",
    "        for iterador_2 in range(i+2, len(lista)+1):\n",
    "            if {iterador_1}=={lista[iterador_2-1]}:\n",
    "                return iterador_1\n",
    "    return -1\n",
    "\n",
    "# resolução 01\n",
    "def retorna_primeiro_int_duplicado_com_count(lista):\n",
    "    for iterador_1 in lista[:-1]:\n",
    "        if lista.count(iterador_1) > 1:\n",
    "            return iterador_1\n",
    "    return -1    \n",
    "\n",
    "\n",
    "\n",
    "for lista in lista_de_listas_de_inteiros:\n",
    "    print(lista)\n",
    "    print(retorna_primeiro_int_duplicado(lista) , \n",
    "        retorna_primeiro_int_duplicado_com_set(lista) ,\n",
    "        retorna_primeiro_int_duplicado_com_count(lista))"
   ]
  }
 ],
 "metadata": {
  "kernelspec": {
   "display_name": ".venv",
   "language": "python",
   "name": "python3"
  },
  "language_info": {
   "name": "python",
   "version": "3.10.4"
  },
  "orig_nbformat": 4
 },
 "nbformat": 4,
 "nbformat_minor": 2
}
