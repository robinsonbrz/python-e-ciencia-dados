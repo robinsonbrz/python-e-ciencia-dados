{
 "cells": [
  {
   "cell_type": "code",
   "execution_count": 4,
   "metadata": {},
   "outputs": [
    {
     "name": "stdout",
     "output_type": "stream",
     "text": [
      "TESTE truthy\n",
      "[] falsy\n",
      "{} falsy\n",
      "set() falsy\n",
      "() falsy\n",
      " falsy\n",
      "0 falsy\n",
      "0.0 falsy\n",
      "None falsy\n",
      "False falsy\n",
      "range(0, 0) falsy\n"
     ]
    }
   ],
   "source": [
    "# Valores Truthy e Falsy, Tipos Mutáveis e Imutáveis\n",
    "# Mutáveis [] {} set()\n",
    "# Imutáveis () \"\" 0 0.0 None False range(0, 10)\n",
    "lista = []\n",
    "dicionario = {}\n",
    "conjunto = set()\n",
    "tupla = ()\n",
    "string = ''\n",
    "inteito = 0\n",
    "flutuante = 0.0\n",
    "nada = None\n",
    "falso = False\n",
    "intervalo = range(0)\n",
    "\n",
    "\n",
    "def falsy(valor):\n",
    "    return 'falsy'if not valor else 'truthy'\n",
    "\n",
    "\n",
    "print(f'TESTE', falsy('TESTE'))\n",
    "print(f'{lista}', falsy(lista))\n",
    "print(f'{dicionario}', falsy(dicionario))\n",
    "print(f'{conjunto}', falsy(conjunto))\n",
    "print(f'{tupla}', falsy(tupla))\n",
    "print(f'{string}', falsy(string))\n",
    "print(f'{inteito}', falsy(inteito))\n",
    "print(f'{flutuante}', falsy(flutuante))\n",
    "print(f'{nada}', falsy(nada))\n",
    "print(f'{falso}', falsy(falso))\n",
    "print(f'{intervalo}', falsy(intervalo))"
   ]
  }
 ],
 "metadata": {
  "kernelspec": {
   "display_name": ".venv",
   "language": "python",
   "name": "python3"
  },
  "language_info": {
   "codemirror_mode": {
    "name": "ipython",
    "version": 3
   },
   "file_extension": ".py",
   "mimetype": "text/x-python",
   "name": "python",
   "nbconvert_exporter": "python",
   "pygments_lexer": "ipython3",
   "version": "3.7.15"
  },
  "orig_nbformat": 4
 },
 "nbformat": 4,
 "nbformat_minor": 2
}
