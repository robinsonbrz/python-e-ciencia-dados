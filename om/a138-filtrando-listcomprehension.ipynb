{
 "cells": [
  {
   "cell_type": "code",
   "execution_count": 2,
   "metadata": {},
   "outputs": [
    {
     "name": "stdout",
     "output_type": "stream",
     "text": [
      "[{'nome': 'p1', 'preco': 20}, {'nome': 'p2', 'preco': 10}, {'nome': 'p3', 'preco': 31.5}]\n"
     ]
    }
   ],
   "source": [
    "# Mapeamento de dados em list comprehension\n",
    "produtos = [\n",
    "    {'nome': 'p1', 'preco': 20, },\n",
    "    {'nome': 'p2', 'preco': 10, },\n",
    "    {'nome': 'p3', 'preco': 30, },\n",
    "]\n",
    "novos_produtos = [\n",
    "    # aumentando o preço da lista em 5%\n",
    "    {**produto, 'preco': produto['preco'] * 1.05}\n",
    "    if produto['preco'] > 20 else {**produto}\n",
    "    for produto in produtos\n",
    "]\n",
    "print(novos_produtos)"
   ]
  },
  {
   "cell_type": "code",
   "execution_count": null,
   "metadata": {},
   "outputs": [],
   "source": []
  }
 ],
 "metadata": {
  "kernelspec": {
   "display_name": ".venv",
   "language": "python",
   "name": "python3"
  },
  "language_info": {
   "codemirror_mode": {
    "name": "ipython",
    "version": 3
   },
   "file_extension": ".py",
   "mimetype": "text/x-python",
   "name": "python",
   "nbconvert_exporter": "python",
   "pygments_lexer": "ipython3",
   "version": "3.7.15"
  },
  "orig_nbformat": 4
 },
 "nbformat": 4,
 "nbformat_minor": 2
}
