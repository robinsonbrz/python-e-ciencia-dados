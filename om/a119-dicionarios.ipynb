{
 "cells": [
  {
   "attachments": {},
   "cell_type": "markdown",
   "metadata": {},
   "source": [
    "Dicionários em Python (tipo dict)\n",
    "Dicionários são estruturas de dados do tipo\n",
    "par de \"chave\" e \"valor\".\n",
    "Chaves podem ser consideradas como o \"índice\"\n",
    "que vimos na lista e podem ser de tipos imutáveis\n",
    "como: str, int, float, bool, tuple, etc.\n",
    "O valor pode ser de qualquer tipo, incluindo outro\n",
    "dicionário.\n",
    "Usamos as chaves - {} - ou a classe dict para criar\n",
    "dicionários.\n",
    "Imutáveis: str, int, float, bool, tuple\n",
    "Mutável: dict, list"
   ]
  },
  {
   "cell_type": "code",
   "execution_count": 3,
   "metadata": {},
   "outputs": [
    {
     "name": "stdout",
     "output_type": "stream",
     "text": [
      "{'nome': 'Rob', 'sobrenome': 'enedino', 'idade': 18, 'altura': 1.8, 'endereços': [{'rua': 'tal tal', 'número': 123}, {'rua': 'outra rua', 'número': 321}]}\n",
      "<class 'dict'>\n",
      "Rob\n",
      "enedino\n"
     ]
    }
   ],
   "source": [
    "# Declarando Dicionarios\n",
    "pessoa = {\n",
    "    'nome': 'Rob',\n",
    "    'sobrenome': 'Enedino',\n",
    "    'idade': 18,\n",
    "    'altura': 1.8,\n",
    "    'endereços': [\n",
    "        {'rua': 'tal tal', 'número': 123},\n",
    "        {'rua': 'outra rua', 'número': 321},\n",
    "    ]\n",
    "}\n",
    "pessoa2 = dict(nome='Lucas', sobrenome='Lourenco')\n"
   ]
  },
  {
   "cell_type": "code",
   "execution_count": 6,
   "metadata": {},
   "outputs": [
    {
     "name": "stdout",
     "output_type": "stream",
     "text": [
      "{'rua': 'tal tal', 'número': 123}\n",
      "{'rua': 'outra rua', 'número': 321}\n"
     ]
    }
   ],
   "source": [
    "# acessando chaves\n",
    "# acessando por colchetes\n",
    "# se a chave não existir, retorna Exception\n",
    "print(pessoa['endereços'][0])\n",
    "print(pessoa['endereços'][1])"
   ]
  },
  {
   "cell_type": "code",
   "execution_count": 20,
   "metadata": {},
   "outputs": [
    {
     "name": "stdout",
     "output_type": "stream",
     "text": [
      "None\n",
      "Não existe chave\n"
     ]
    }
   ],
   "source": [
    "# Retorna None caso não exista a chave, não retorna exception\n",
    "print(pessoa.get('nome1'))\n",
    "\n",
    "# pode-se pedir um default caso não exista a chave\n",
    "print(pessoa.get('nome1', 'Não existe chave'))\n"
   ]
  },
  {
   "cell_type": "code",
   "execution_count": null,
   "metadata": {},
   "outputs": [],
   "source": [
    "# exibindo toda a lista\n",
    "print(pessoa)\n",
    "# tipo\n",
    "print(type(pessoa))\n",
    "print(pessoa['nome'])\n",
    "print(pessoa['sobrenome'])\n",
    "\n",
    "for chave in pessoa:\n",
    "    print(chave, pessoa[chave])"
   ]
  },
  {
   "cell_type": "code",
   "execution_count": 15,
   "metadata": {},
   "outputs": [
    {
     "name": "stdout",
     "output_type": "stream",
     "text": [
      "iterando dicionario\n",
      "nome Rob\n",
      "sobrenome enedino\n",
      "idade 18\n",
      "altura 1.8\n",
      "endereços [{'rua': 'tal tal', 'número': 123}, {'rua': 'outra rua', 'número': 321}]\n",
      "\n",
      " iterando chaves \n",
      "nome\n",
      "sobrenome\n",
      "idade\n",
      "altura\n",
      "endereços\n",
      "\n",
      " iterando valores \n",
      "Rob\n",
      "enedino\n",
      "18\n",
      "1.8\n",
      "[{'rua': 'tal tal', 'número': 123}, {'rua': 'outra rua', 'número': 321}]\n",
      "\n",
      " iterando chave e valores \n",
      "Chave: nome -> Valor: Rob\n",
      "Chave: sobrenome -> Valor: enedino\n",
      "Chave: idade -> Valor: 18\n",
      "Chave: altura -> Valor: 1.8\n",
      "Chave: endereços -> Valor: [{'rua': 'tal tal', 'número': 123}, {'rua': 'outra rua', 'número': 321}]\n"
     ]
    }
   ],
   "source": [
    "# iterando dicionario\n",
    "print('iterando dicionario')\n",
    "for chave in pessoa:\n",
    "    print(chave, pessoa[chave])\n",
    "\n",
    "# iterando chaves \n",
    "print('\\n iterando chaves ')\n",
    "for chave in pessoa.keys():\n",
    "    print(chave)\n",
    "\n",
    "# iterando valores \n",
    "print('\\n iterando valores ')\n",
    "for val in pessoa.values():\n",
    "    print(val)\n",
    "\n",
    "# iterando chave e valores \n",
    "print('\\n iterando chave e valores ')\n",
    "for k, v in pessoa.items():\n",
    "    print(f\"Chave: {k} -> Valor: {v}\")"
   ]
  }
 ],
 "metadata": {
  "kernelspec": {
   "display_name": ".venv",
   "language": "python",
   "name": "python3"
  },
  "language_info": {
   "codemirror_mode": {
    "name": "ipython",
    "version": 3
   },
   "file_extension": ".py",
   "mimetype": "text/x-python",
   "name": "python",
   "nbconvert_exporter": "python",
   "pygments_lexer": "ipython3",
   "version": "3.7.15"
  },
  "orig_nbformat": 4
 },
 "nbformat": 4,
 "nbformat_minor": 2
}
