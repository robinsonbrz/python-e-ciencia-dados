{
 "cells": [
  {
   "cell_type": "code",
   "execution_count": null,
   "metadata": {},
   "outputs": [],
   "source": [
    "# The difference between shallow and deep copying is only \n",
    "# relevant for compound objects (objects that contain other objects, \n",
    "# # like lists or class instances):\n",
    "\n",
    "# A shallow copy constructs a new compound object and then \n",
    "# (to the extent possible) inserts references into it \n",
    "# # to the objects found in the original.\n",
    "\n",
    "# A deep copy constructs a new compound object and then, \n",
    "# recursively, inserts copies into it of the objects found in the original.\n",
    "\n",
    "d2 = copy.copy(d1)\n",
    "# Return a shallow copy of x.\n",
    "\n",
    "import copy\n",
    "d2 = copy.deepcopy(d1)\n",
    "# Return a deep copy of x.\n",
    "\n",
    "d1 = d2 # only copies the address\n",
    "d1 = d2.copy() # copies the address and the values\n",
    "d1 = copy.deepcopy(d2) # copies the address, the values and the objects\n",
    "# in the values\n",
    "\n",
    "\n"
   ]
  }
 ],
 "metadata": {
  "language_info": {
   "name": "python"
  },
  "orig_nbformat": 4
 },
 "nbformat": 4,
 "nbformat_minor": 2
}
