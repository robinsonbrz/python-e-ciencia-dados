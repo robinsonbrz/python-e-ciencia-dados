{
 "cells": [
  {
   "cell_type": "code",
   "execution_count": 1,
   "metadata": {},
   "outputs": [
    {
     "name": "stdout",
     "output_type": "stream",
     "text": [
      "Bom dia, Maria!\n",
      "Boa noite, Maria!\n",
      "Bom dia, Joana!\n",
      "Boa noite, Joana!\n",
      "Bom dia, Luiz!\n",
      "Boa noite, Luiz!\n"
     ]
    }
   ],
   "source": [
    "'''\n",
    "Isso pode ser útil para criar funções que criam outras funções\n",
    "\n",
    "Closure e funções que retornam outras funções\n",
    "Closure -> fechamento da execução e despejo da memória após a execução\n",
    "\n",
    "Exemplo de função onde escopo e variváies são armazenados em um endereço de memória\n",
    "a função sem os parênteses é um endereço de memória e não foi executada ainda\n",
    "a memória retém a função com seus parâmetros aguardadndo o fechamento\n",
    "\n",
    "o closure seria chamar a execução da função ou seja chamar o nome da função com os parênteses\n",
    "Assim aquela função com parâmetros e escopo são executados e a memória é então despejada.\n",
    "\n",
    "exemplo\n",
    "\n",
    "def criar_saudacao(saudacao):\n",
    "    def saudar():\n",
    "        return f'{saudacao}'\n",
    "    return saudar\n",
    "\n",
    "s1 = criar_saudacao('olá')        # a função não é executada fica na pilha\n",
    "s2 = criar_saudacao('boa noite!') # com o escopo armazenado\n",
    "# cada uma com escopo diferente armazenado\n",
    "\n",
    "# o closure ocore ao chamar a função s2() e ou s1()\n",
    "s2()\n",
    "s1()\n",
    "Quando a função e o escopo são desempilhados \n",
    "e ocorre o despejo de memória\n",
    "'''\n",
    "def criar_saudacao(saudacao):\n",
    "    def saudar(nome):\n",
    "        return f'{saudacao}, {nome}!'\n",
    "    return saudar\n",
    "\n",
    "\n",
    "falar_bom_dia = criar_saudacao('Bom dia')\n",
    "falar_boa_noite = criar_saudacao('Boa noite')\n",
    "\n",
    "for nome in ['Maria', 'Joana', 'Luiz']:\n",
    "    print(falar_bom_dia(nome))\n",
    "    print(falar_boa_noite(nome))"
   ]
  }
 ],
 "metadata": {
  "kernelspec": {
   "display_name": ".venv",
   "language": "python",
   "name": "python3"
  },
  "language_info": {
   "codemirror_mode": {
    "name": "ipython",
    "version": 3
   },
   "file_extension": ".py",
   "mimetype": "text/x-python",
   "name": "python",
   "nbconvert_exporter": "python",
   "pygments_lexer": "ipython3",
   "version": "3.10.4"
  },
  "orig_nbformat": 4
 },
 "nbformat": 4,
 "nbformat_minor": 2
}
