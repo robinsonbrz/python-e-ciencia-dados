{
 "cells": [
  {
   "attachments": {},
   "cell_type": "markdown",
   "metadata": {},
   "source": [
    "98. Exercício - Gerar o primeiro dígito de um CPF com Python\n",
    "\n",
    "\"\"\"\n",
    "Calculo do primeiro dígito do CPF\n",
    "\n",
    "CPF: 746.824.890-70\n",
    "\n",
    "Colete a soma dos 9 primeiros dígitos do CPF\n",
    "\n",
    "multiplicando cada um dos valores por uma\n",
    "\n",
    "contagem regressiva começando de 10\n",
    "\n",
    "Ex.:  746.824.890-70 (746824890)\n",
    "\n",
    "   10  9  8  7  6  5  4  3  2\n",
    "\n",
    "*  7   4  6  8  2  4  8  9  0\n",
    "\n",
    "   70  36 48 56 12 20 32 27 0\n",
    "\n",
    "Somar todos os resultados: \n",
    "\n",
    "70+36+48+56+12+20+32+27+0 = 301\n",
    "\n",
    "Multiplicar o resultado anterior por 10\n",
    "\n",
    "301 * 10 = 3010\n",
    "\n",
    "Obter o resto da divisão da conta anterior por 11\n",
    "\n",
    "3010 % 11 = 7\n",
    "\n",
    "Se o resultado anterior for maior que 9:\n",
    "\n",
    "    resultado é 0\n",
    "\n",
    "contrário disso:\n",
    "\n",
    "    resultado é o valor da conta\n",
    "\n",
    "O primeiro dígito do CPF é 7\n",
    "\n",
    "4devs gerador de cpfs\n",
    "\n",
    "https://www.4devs.com.br/gerador_de_cpf\n",
    "\"\"\""
   ]
  },
  {
   "cell_type": "code",
   "execution_count": 1,
   "metadata": {},
   "outputs": [
    {
     "name": "stdout",
     "output_type": "stream",
     "text": [
      "CPF:  86458806019\n",
      "1\n"
     ]
    }
   ],
   "source": [
    "# entrar o valor com um input\n",
    "cpf = '86458806019'\n",
    "print('CPF: ', cpf)\n",
    "# declarar um inteiro primeiro_digito\n",
    "primeiro_digito = 0\n",
    "multiplicador = 10\n",
    "# fazer um loop em ordem decrescente multiplicando os 9 primeiros digitos\n",
    "# primeiro multiplicar por 9 segundo por 8\n",
    "for digito in cpf[0:9]:\n",
    "    primeiro_digito += multiplicador * int(digito)\n",
    "    multiplicador -= 1\n",
    "\n",
    "# salvar em primeiro_digito e multiplicar por 10\n",
    "primeiro_digito *= 10\n",
    "\n",
    "# obter o resto por 11\n",
    "primeiro_digito %= 11\n",
    "\n",
    "# se primeiro_digito for maior que 9 primeiro_digito = 0 senao é o resto\n",
    "primeiro_digito = primeiro_digito if primeiro_digito < 10 else 0\n",
    "print(primeiro_digito)"
   ]
  }
 ],
 "metadata": {
  "kernelspec": {
   "display_name": ".venv",
   "language": "python",
   "name": "python3"
  },
  "language_info": {
   "codemirror_mode": {
    "name": "ipython",
    "version": 3
   },
   "file_extension": ".py",
   "mimetype": "text/x-python",
   "name": "python",
   "nbconvert_exporter": "python",
   "pygments_lexer": "ipython3",
   "version": "3.7.15"
  },
  "orig_nbformat": 4
 },
 "nbformat": 4,
 "nbformat_minor": 2
}
