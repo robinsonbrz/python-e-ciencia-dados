{
 "cells": [
  {
   "cell_type": "code",
   "execution_count": 1,
   "metadata": {},
   "outputs": [
    {
     "name": "stdout",
     "output_type": "stream",
     "text": [
      "[[(0, 'L'), (0, 'u'), (0, 'i'), (0, 'z')], [(1, 'L'), (1, 'u'), (1, 'i'), (1, 'z')], [(2, 'L'), (2, 'u'), (2, 'i'), (2, 'z')]]\n"
     ]
    }
   ],
   "source": [
    "lista = []\n",
    "for x in range(3):\n",
    "    for y in range(3):\n",
    "        lista.append((x, y))\n",
    "lista = [\n",
    "    (x, y)\n",
    "    for x in range(3)\n",
    "    for y in range(3)\n",
    "]\n",
    "lista = [\n",
    "    [(x, letra) for letra in 'Luiz']\n",
    "    for x in range(3)\n",
    "]\n",
    "\n",
    "print(lista)"
   ]
  }
 ],
 "metadata": {
  "kernelspec": {
   "display_name": ".venv",
   "language": "python",
   "name": "python3"
  },
  "language_info": {
   "codemirror_mode": {
    "name": "ipython",
    "version": 3
   },
   "file_extension": ".py",
   "mimetype": "text/x-python",
   "name": "python",
   "nbconvert_exporter": "python",
   "pygments_lexer": "ipython3",
   "version": "3.7.15"
  },
  "orig_nbformat": 4
 },
 "nbformat": 4,
 "nbformat_minor": 2
}
