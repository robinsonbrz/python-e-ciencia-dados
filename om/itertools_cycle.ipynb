{
 "cells": [
  {
   "cell_type": "code",
   "execution_count": 18,
   "metadata": {},
   "outputs": [
    {
     "data": {
      "text/plain": [
       "['Ada Lovelace',\n",
       " 'Grace Hopper',\n",
       " 'Ida Rhodes',\n",
       " 'Barbara Liskov',\n",
       " 'Ada Lovelace',\n",
       " 'Grace Hopper',\n",
       " 'Ida Rhodes',\n",
       " 'Barbara Liskov',\n",
       " 'Ada Lovelace',\n",
       " 'Grace Hopper']"
      ]
     },
     "execution_count": 18,
     "metadata": {},
     "output_type": "execute_result"
    }
   ],
   "source": [
    "from itertools import cycle\n",
    "\n",
    "x =  itertools.cycle(['Ada Lovelace', 'Grace Hopper', 'Ida Rhodes', 'Barbara Liskov'])\n",
    "lista  = [next(x) for i in range(10)]\n",
    "\n",
    "lista"
   ]
  }
 ],
 "metadata": {
  "kernelspec": {
   "display_name": ".venv",
   "language": "python",
   "name": "python3"
  },
  "language_info": {
   "codemirror_mode": {
    "name": "ipython",
    "version": 3
   },
   "file_extension": ".py",
   "mimetype": "text/x-python",
   "name": "python",
   "nbconvert_exporter": "python",
   "pygments_lexer": "ipython3",
   "version": "3.7.15"
  },
  "orig_nbformat": 4
 },
 "nbformat": 4,
 "nbformat_minor": 2
}
