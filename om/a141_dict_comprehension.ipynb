{
 "cells": [
  {
   "cell_type": "code",
   "execution_count": 1,
   "metadata": {},
   "outputs": [
    {
     "name": "stdout",
     "output_type": "stream",
     "text": [
      "{32, 1, 2, 64, 4, 128, 256, 512, 8, 16}\n"
     ]
    }
   ],
   "source": [
    "# a141 Dictionary Comprehension e Set Comprehension\n",
    "produto = {\n",
    "    'nome': 'Caneta Azul',\n",
    "    'preco': 2.5,\n",
    "    'categoria': 'Escritório',\n",
    "}\n",
    "\n",
    "dc = {\n",
    "    chave: valor.upper()\n",
    "    if isinstance(valor, str) else valor\n",
    "    for chave, valor\n",
    "    in produto.items()\n",
    "    if chave != 'categoria'\n",
    "}\n",
    "\n",
    "lista = [\n",
    "    ('a', 'valor a'),\n",
    "    ('b', 'valor a'),\n",
    "    ('b', 'valor a'),\n",
    "]\n",
    "dc = {\n",
    "    chave: valor\n",
    "    for chave, valor in lista\n",
    "}\n",
    "\n",
    "s1 = {2 ** i for i in range(10)}\n",
    "print(s1)"
   ]
  },
  {
   "cell_type": "code",
   "execution_count": 1,
   "metadata": {},
   "outputs": [
    {
     "name": "stdout",
     "output_type": "stream",
     "text": [
      "STR\n",
      "A\n",
      "NUM\n",
      "1 2\n",
      "NUM\n",
      "1.1 2.2\n",
      "NUM\n",
      "True 2\n",
      "OUTRO\n",
      "[0, 1, 2]\n",
      "OUTRO\n",
      "(1, 2)\n",
      "SET\n",
      "{0, 1, 5} True\n",
      "OUTRO\n",
      "{'nome': 'Luiz'}\n"
     ]
    }
   ],
   "source": [
    "# a142 \n",
    "# isinstace - para saber se objeto é de determinado tipo\n",
    "lista = [\n",
    "    'a', 1, 1.1, True, [0, 1, 2], (1, 2),\n",
    "    {0, 1}, {'nome': 'Luiz'},\n",
    "]\n",
    "\n",
    "for item in lista:\n",
    "    if isinstance(item, set):\n",
    "        print('SET')\n",
    "        item.add(5)\n",
    "        print(item, isinstance(item, set))\n",
    "\n",
    "    elif isinstance(item, str):\n",
    "        print('STR')\n",
    "        print(item.upper())\n",
    "\n",
    "    elif isinstance(item, (int, float)):\n",
    "        print('NUM')\n",
    "        print(item, item * 2)\n",
    "    else:\n",
    "        print('OUTRO')\n",
    "        print(item)"
   ]
  }
 ],
 "metadata": {
  "kernelspec": {
   "display_name": ".venv",
   "language": "python",
   "name": "python3"
  },
  "language_info": {
   "codemirror_mode": {
    "name": "ipython",
    "version": 3
   },
   "file_extension": ".py",
   "mimetype": "text/x-python",
   "name": "python",
   "nbconvert_exporter": "python",
   "pygments_lexer": "ipython3",
   "version": "3.7.15"
  },
  "orig_nbformat": 4
 },
 "nbformat": 4,
 "nbformat_minor": 2
}
