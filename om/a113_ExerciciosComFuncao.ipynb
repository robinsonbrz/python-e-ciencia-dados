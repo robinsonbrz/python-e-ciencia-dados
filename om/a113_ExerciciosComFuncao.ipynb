{
 "cells": [
  {
   "attachments": {},
   "cell_type": "markdown",
   "metadata": {},
   "source": [
    "# Exercícios com funções\n",
    "\n",
    "# Crie uma função que multiplica todos os argumentos\n",
    "# não nomeados recebidos\n",
    "# Retorne o total para uma variável e mostre o valor\n",
    "# da variável."
   ]
  },
  {
   "cell_type": "code",
   "execution_count": 20,
   "metadata": {},
   "outputs": [
    {
     "name": "stdout",
     "output_type": "stream",
     "text": [
      "5 3 multiplicados\n",
      "Resultado: 15 é um número ímpar\n"
     ]
    }
   ],
   "source": [
    "def multiplica_argumentos(*args):\n",
    "    acumulador = 1\n",
    "    for arg in args:\n",
    "        acumulador *= arg\n",
    "        print(f'{arg} ', end='')\n",
    "    print('multiplicados')\n",
    "    return acumulador\n",
    "\n",
    "def numero_par(numero):\n",
    "    return 'par' if ((numero % 2) == 0) else 'ímpar'\n",
    "\n",
    "argumentos_multiplicados = multiplica_argumentos(5, 3)\n",
    "print(f'Resultado: {argumentos_multiplicados} é um número ', end='' )\n",
    "\n",
    "print(numero_par(argumentos_multiplicados))"
   ]
  }
 ],
 "metadata": {
  "kernelspec": {
   "display_name": ".venv",
   "language": "python",
   "name": "python3"
  },
  "language_info": {
   "codemirror_mode": {
    "name": "ipython",
    "version": 3
   },
   "file_extension": ".py",
   "mimetype": "text/x-python",
   "name": "python",
   "nbconvert_exporter": "python",
   "pygments_lexer": "ipython3",
   "version": "3.10.4"
  },
  "orig_nbformat": 4
 },
 "nbformat": 4,
 "nbformat_minor": 2
}
