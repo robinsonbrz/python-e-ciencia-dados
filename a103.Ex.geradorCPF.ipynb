{
 "cells": [
  {
   "attachments": {},
   "cell_type": "markdown",
   "metadata": {},
   "source": [
    "Exercício - Gerar um CPF válido\n",
    "\n",
    "Utilizando as funções anteriores de validação"
   ]
  },
  {
   "cell_type": "code",
   "execution_count": 5,
   "metadata": {},
   "outputs": [
    {
     "name": "stdout",
     "output_type": "stream",
     "text": [
      "9\n",
      "0794962289\n",
      "0\n",
      "CPF 9 digitos: 079496228\n",
      "Dígitos CPF Calculados 90\n",
      "07949622890\n"
     ]
    }
   ],
   "source": [
    "from random import randint\n",
    "\n",
    "\"\"\"\n",
    "Retorna um digito aleatorio\n",
    "\"\"\"\n",
    "def  random_number():\n",
    "    return randint(0,9)\n",
    "\n",
    "\n",
    "\"\"\"\n",
    "Função multiplica um númeor por 10 \n",
    "e retorna modulo do resultado por 11\n",
    "\"\"\"\n",
    "def calcula_resto_x10(numero):\n",
    "    return (numero *10) % 11\n",
    "\n",
    "\n",
    "\"\"\"\n",
    "Função retorna 0 se num > 9\n",
    "senão retorna o próprio número\n",
    "\"\"\"\n",
    "def numero_para_um_digito(numero):\n",
    "    return numero if numero < 10 else 0\n",
    "\n",
    "\n",
    "\"\"\"\n",
    "Função priemiro multiplica um número por 10 \n",
    "e retorna modulo do resultado por 11\n",
    "\"\"\"\n",
    "def calcula_resto_x10(numero):\n",
    "    return (numero *10) % 11\n",
    "\n",
    "\n",
    "cpf_9_digitos = ''\n",
    "cpf_9_digitos = ''.join([str(random_number()) for i in range(9)])\n",
    "\n",
    "# declarar um inteiro primeiro_digito\n",
    "primeiro_digito = 0\n",
    "multiplicador = 10\n",
    "\n",
    "# fazer um loop em ordem decrescente multiplicando os 9 primeiros digitos\n",
    "# primeiro multiplicar por 9 segundo por 8\n",
    "for digito in cpf_9_digitos:\n",
    "    primeiro_digito += multiplicador * int(digito)\n",
    "    multiplicador -= 1\n",
    "\n",
    "primeiro_digito = calcula_resto_x10(primeiro_digito)\n",
    "primeiro_digito = numero_para_um_digito(primeiro_digito)\n",
    "print(primeiro_digito)\n",
    "\n",
    "segundo_digito = 0\n",
    "multiplicador = 11\n",
    "dez_primeiros = cpf_9_digitos + str(primeiro_digito)\n",
    "print(dez_primeiros)\n",
    "\n",
    "for digito in (dez_primeiros):\n",
    "    segundo_digito += multiplicador * int(digito)\n",
    "    multiplicador -= 1\n",
    "\n",
    "segundo_digito = calcula_resto_x10(segundo_digito)\n",
    "segundo_digito = numero_para_um_digito(segundo_digito)\n",
    "print(segundo_digito )\n",
    "\n",
    "print(f\"CPF 9 digitos: {cpf_9_digitos}\")\n",
    "print(f\"Dígitos CPF Calculados {primeiro_digito}{segundo_digito}\")\n",
    "\n",
    "print(f\"{cpf_9_digitos}{primeiro_digito}{segundo_digito}\")\n"
   ]
  }
 ],
 "metadata": {
  "kernelspec": {
   "display_name": ".venv",
   "language": "python",
   "name": "python3"
  },
  "language_info": {
   "codemirror_mode": {
    "name": "ipython",
    "version": 3
   },
   "file_extension": ".py",
   "mimetype": "text/x-python",
   "name": "python",
   "nbconvert_exporter": "python",
   "pygments_lexer": "ipython3",
   "version": "3.7.15"
  },
  "orig_nbformat": 4
 },
 "nbformat": 4,
 "nbformat_minor": 2
}
