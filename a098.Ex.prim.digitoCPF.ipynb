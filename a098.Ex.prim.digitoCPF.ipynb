{
 "cells": [
  {
   "attachments": {},
   "cell_type": "markdown",
   "metadata": {},
   "source": [
    "98. Exercício - Gerar o primeiro dígito de um CPF com Python\n",
    "\"\"\"\n",
    "Calculo do primeiro dígito do CPF\n",
    "CPF: 746.824.890-70\n",
    "Colete a soma dos 9 primeiros dígitos do CPF\n",
    "multiplicando cada um dos valores por uma\n",
    "contagem regressiva começando de 10\n",
    "Ex.:  746.824.890-70 (746824890)\n",
    "   10  9  8  7  6  5  4  3  2\n",
    "*  7   4  6  8  2  4  8  9  0\n",
    "   70  36 48 56 12 20 32 27 0\n",
    "Somar todos os resultados: \n",
    "70+36+48+56+12+20+32+27+0 = 301\n",
    "Multiplicar o resultado anterior por 10\n",
    "301 * 10 = 3010\n",
    "Obter o resto da divisão da conta anterior por 11\n",
    "3010 % 11 = 7\n",
    "Se o resultado anterior for maior que 9:\n",
    "    resultado é 0\n",
    "contrário disso:\n",
    "    resultado é o valor da conta\n",
    "O primeiro dígito do CPF é 7\n",
    "4devs gerador de cpfs\n",
    "\"\"\""
   ]
  },
  {
   "cell_type": "code",
   "execution_count": 18,
   "metadata": {},
   "outputs": [
    {
     "name": "stdout",
     "output_type": "stream",
     "text": [
      "CPF:  19681991877\n",
      "7\n"
     ]
    }
   ],
   "source": [
    "# entrar o valor com um input\n",
    "cpf = input(\"entre com um número\")\n",
    "print('CPF: ', cpf)\n",
    "# declarar um inteiro primeiro_digito\n",
    "primeiro_digito = 0\n",
    "multiplicador = 10\n",
    "# fazer um loop em ordem decrescente multiplicando os 9 primeiros digitos\n",
    "# primeiro multiplicar por 9 segundo por 8\n",
    "for digito in cpf:\n",
    "    primeiro_digito += multiplicador * int(digito)\n",
    "    multiplicador -= 1\n",
    "    if multiplicador < 2: \n",
    "        break\n",
    "\n",
    "# salvar em primeiro_digito e multiplicar por 10\n",
    "primeiro_digito *= 10\n",
    "\n",
    "# obter o resto por 11\n",
    "primeiro_digito %= 11\n",
    "\n",
    "# se primeiro_digito for maior que 9 primeiro_digito = 0 senao é o resto\n",
    "primeiro_digito = primeiro_digito if primeiro_digito < 10 else 0\n",
    "print(primeiro_digito)\n",
    "\n"
   ]
  }
 ],
 "metadata": {
  "kernelspec": {
   "display_name": ".venv",
   "language": "python",
   "name": "python3"
  },
  "language_info": {
   "codemirror_mode": {
    "name": "ipython",
    "version": 3
   },
   "file_extension": ".py",
   "mimetype": "text/x-python",
   "name": "python",
   "nbconvert_exporter": "python",
   "pygments_lexer": "ipython3",
   "version": "3.7.15"
  },
  "orig_nbformat": 4
 },
 "nbformat": 4,
 "nbformat_minor": 2
}
