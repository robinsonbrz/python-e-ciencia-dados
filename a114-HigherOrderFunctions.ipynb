{
 "cells": [
  {
   "cell_type": "code",
   "execution_count": 7,
   "metadata": {},
   "outputs": [
    {
     "name": "stdout",
     "output_type": "stream",
     "text": [
      "Rob\n"
     ]
    }
   ],
   "source": [
    "\n",
    "# 114. Higher Order Functions\n",
    "# passando o nome ou endereço da função como parâmetro em outra função\n",
    "# Higher Order Functions\n",
    "# Funções que podem receber e/ou retornar outras funções\n",
    "\n",
    "# First-Class Functions\n",
    "# Funções que são tratadas como outros tipos de dados comuns (strings, inteiros, etc...)\n",
    "\n",
    "\n",
    "def saudacao(msg):\n",
    "    return msg\n",
    "\n",
    "def executa(func, texto):\n",
    "    return func(texto)\n",
    "\n",
    "print(executa(saudacao, 'Rob'))"
   ]
  },
  {
   "cell_type": "code",
   "execution_count": 12,
   "metadata": {},
   "outputs": [
    {
     "name": "stdout",
     "output_type": "stream",
     "text": [
      "Rob, ('1',)!\n"
     ]
    }
   ],
   "source": [
    "def saudacao(msg, *nome):\n",
    "    return f'{msg}, {nome}!'\n",
    "\n",
    "def executa(func, *args):\n",
    "    return func(*args)\n",
    "\n",
    "print(executa(saudacao, 'Rob', '1'))"
   ]
  }
 ],
 "metadata": {
  "kernelspec": {
   "display_name": ".venv",
   "language": "python",
   "name": "python3"
  },
  "language_info": {
   "codemirror_mode": {
    "name": "ipython",
    "version": 3
   },
   "file_extension": ".py",
   "mimetype": "text/x-python",
   "name": "python",
   "nbconvert_exporter": "python",
   "pygments_lexer": "ipython3",
   "version": "3.10.4"
  },
  "orig_nbformat": 4
 },
 "nbformat": 4,
 "nbformat_minor": 2
}
