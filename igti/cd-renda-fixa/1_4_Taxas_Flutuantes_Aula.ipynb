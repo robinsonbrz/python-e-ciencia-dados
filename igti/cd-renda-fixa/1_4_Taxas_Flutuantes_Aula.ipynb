{
 "cells": [
  {
   "cell_type": "markdown",
   "metadata": {},
   "source": [
    "# Taxas variáveis ou flutuantes"
   ]
  },
  {
   "cell_type": "markdown",
   "metadata": {},
   "source": [
    "Vimos que para o regime de capitalização composta, a relação entre o principal, o montante, a taxa efetiva e o tempo é expressa por:\n",
    "$$ M = P(1 +i)^{n}$$"
   ]
  },
  {
   "cell_type": "markdown",
   "metadata": {},
   "source": [
    "Essa expressão é válida para o caso em que a taxa $i$ seja constante para todos os períodos de capitalização. Para o caso mais geral em que a taxa é variável nos períodos de capitalização valem as expressões abaixo:"
   ]
  },
  {
   "cell_type": "markdown",
   "metadata": {},
   "source": [
    "$ M_{0} = P $\n",
    "\n",
    "$ M_{1} = (1 + i_{1}) M_{0} $\n",
    "\n",
    "$ M_{2} = (1 + i_{2}) M_{1} = (1 + i_{1})(1 + i_{2}) M_{0} $\n",
    "\n",
    "$ M_{3} = (1 + i_{3}) M_{2} = (1 + i_{1})(1 + i_{2})(1 + i_{3})M_{0} $\n",
    "\n",
    "$$ M_{n} = (1 + i_{1})(1 + i_{2})...(1 + i_{n})M_{0} $$"
   ]
  },
  {
   "cell_type": "code",
   "execution_count": 1,
   "metadata": {},
   "outputs": [],
   "source": [
    "def montante(list_rent, P):\n",
    "    M = P\n",
    "    for i in list_rent:\n",
    "        M *= (1 + i/100)\n",
    "    return M"
   ]
  },
  {
   "cell_type": "markdown",
   "metadata": {},
   "source": [
    "# Exemplo 1"
   ]
  },
  {
   "cell_type": "markdown",
   "metadata": {},
   "source": [
    "Um investidor obtem as seguintes rentabilidades efetivas mensais\n",
    "Mês 1 : 0.8%\n",
    "Mês 2 : 0.3%\n",
    "Mês 3 : 0.2%\n",
    "ao investir R$100.000,00 no mercado financeiro por três meses. Qual é o montante do resgate?"
   ]
  },
  {
   "cell_type": "code",
   "execution_count": 4,
   "metadata": {},
   "outputs": [
    {
     "name": "stdout",
     "output_type": "stream",
     "text": [
      " O montante é dado por $101304.6\n"
     ]
    }
   ],
   "source": [
    "list_rent = [0.8, 0.3, 0.2]\n",
    "P = 1000_00\n",
    "M = montante(list_rent, P)\n",
    "print(f' O montante é dado por ${round(M,2)}')"
   ]
  },
  {
   "cell_type": "markdown",
   "metadata": {},
   "source": [
    "# Exemplo 2"
   ]
  },
  {
   "cell_type": "markdown",
   "metadata": {},
   "source": [
    "Por um período de quatro dias úteis é realizado uma operação interbancária com um principal de R$ 100.000,00 é realizada por quatro dias úteis. As taxas over mês da operação são as seguintes:\n",
    "\n",
    "1º dia: 0,748% a.m.o.\n",
    "\n",
    "2º dia: 0,742% a.m.o.\n",
    "\n",
    "3º dia: 0,756% a.m.o.\n",
    "\n",
    "4º dia: 0,753% a.m.o.\n",
    "\n",
    "Determine o montante da operação"
   ]
  },
  {
   "cell_type": "code",
   "execution_count": 5,
   "metadata": {},
   "outputs": [
    {
     "name": "stdout",
     "output_type": "stream",
     "text": [
      " O montante é dado por $10010.0\n"
     ]
    }
   ],
   "source": [
    "P = 100_00 # reais\n",
    "list_rent = [0.748/30, 0.742/30, 0.756/30, 0.753/30]\n",
    "M = montante(list_rent, P)\n",
    "print(f' O montante é dado por ${round(M,2)}')"
   ]
  },
  {
   "cell_type": "markdown",
   "metadata": {},
   "source": [
    "# Taxa acumulada"
   ]
  },
  {
   "cell_type": "markdown",
   "metadata": {},
   "source": [
    "#### Regime de capitalização composta"
   ]
  },
  {
   "cell_type": "markdown",
   "metadata": {},
   "source": [
    "$ M_{n} = (1 + i_{1})(1 + i_{2})...(1 + i_{n})M_{0}$\n",
    "\n",
    "$ M_{n} = (1 + i_{ac})M_0 $\n",
    "\n",
    "$$ 1 + i_{ac} = (1 + i_{1})(1 + i_{2})...(1 + i_{n}) =  M_{n}/M_0$$"
   ]
  },
  {
   "cell_type": "code",
   "execution_count": 6,
   "metadata": {},
   "outputs": [],
   "source": [
    "def taxa_ac(list_rent):\n",
    "    import numpy as np\n",
    "    list_fat = [1 + i/100 for i in list_rent]\n",
    "    i_ac = (np.prod(list_fat) - 1)\n",
    "    return 100*i_ac"
   ]
  },
  {
   "cell_type": "markdown",
   "metadata": {},
   "source": [
    "# Exemplo 3"
   ]
  },
  {
   "cell_type": "markdown",
   "metadata": {},
   "source": [
    "Um indivíduo, deixou aplicado R$ 20.000,00 por um período de 5 meses na bolsa de valores e obteve as seguintes rentabilidades efetivas mensais:\n",
    "\n",
    "Mês 1: 1,5%\n",
    "\n",
    "Mês 2: 6,2%\n",
    "\n",
    "Mês 3: 2,7%\n",
    "\n",
    "Mês 4: -5,2%\n",
    "\n",
    "Mês 5: -3,8%\n",
    "\n",
    "Determinar o montante do investimento e a taxa acumulada no período."
   ]
  },
  {
   "cell_type": "code",
   "execution_count": 11,
   "metadata": {},
   "outputs": [
    {
     "name": "stdout",
     "output_type": "stream",
     "text": [
      " O montante acumulado é 20191.770790027193 reais\n",
      " A taxa acumulada é 0.96 % a.p.\n"
     ]
    }
   ],
   "source": [
    "P = 20_000 # reais\n",
    "list_rent = [1.5, 6.2, 2.7, -5.2, -3.8]\n",
    "M = montante(list_rent, P)\n",
    "print( f' O montante acumulado é {M} reais')\n",
    "i_ac  = taxa_ac(list_rent)\n",
    "print(f' A taxa acumulada é {round(i_ac,2)} % a.p.')\n"
   ]
  },
  {
   "cell_type": "code",
   "execution_count": 12,
   "metadata": {},
   "outputs": [
    {
     "name": "stdout",
     "output_type": "stream",
     "text": [
      " A taxa acumulada é 0.96 % a.p.\n"
     ]
    }
   ],
   "source": [
    "# Outra forma\n",
    "i_ac = 100*(M/P - 1)\n",
    "print(f' A taxa acumulada é {round(i_ac,2)} % a.p.')"
   ]
  },
  {
   "cell_type": "markdown",
   "metadata": {},
   "source": [
    "# Exemplo 4"
   ]
  },
  {
   "cell_type": "markdown",
   "metadata": {},
   "source": [
    "Durante três dias úteis, uma operação interbancária foi realizada com as seguintes taxas over mês\n",
    "\n",
    "1º dia: 0,732% a.m.o.\n",
    "\n",
    "2º dia: 0,756% a.m.o.\n",
    "\n",
    "3º dia: 0,748% a.m.o.\n",
    "\n",
    "Determine a taxa efetiva no período da operação"
   ]
  },
  {
   "cell_type": "code",
   "execution_count": 13,
   "metadata": {},
   "outputs": [
    {
     "name": "stdout",
     "output_type": "stream",
     "text": [
      " A taxa acumulada é 0.07455 % a.p.\n"
     ]
    }
   ],
   "source": [
    "list_rent = [0.732/30, 0.756/30, 0.748/30]\n",
    "i_ac = taxa_ac(list_rent)\n",
    "print(f' A taxa acumulada é {round(i_ac,5)} % a.p.')"
   ]
  },
  {
   "cell_type": "markdown",
   "metadata": {},
   "source": [
    "Referência Bibliográfica : José Roberto Securato. Cálculo financeiro das tesourarias; Bancos e empresas. Saint Paul Editora LTDA"
   ]
  }
 ],
 "metadata": {
  "kernelspec": {
   "display_name": "Python 3 (ipykernel)",
   "language": "python",
   "name": "python3"
  },
  "language_info": {
   "codemirror_mode": {
    "name": "ipython",
    "version": 3
   },
   "file_extension": ".py",
   "mimetype": "text/x-python",
   "name": "python",
   "nbconvert_exporter": "python",
   "pygments_lexer": "ipython3",
   "version": "3.8.10"
  },
  "vscode": {
   "interpreter": {
    "hash": "bce320103a4f9599bf42cb45744b1f3acee8930c6f7dcdff248089a2e65863cd"
   }
  }
 },
 "nbformat": 4,
 "nbformat_minor": 2
}
