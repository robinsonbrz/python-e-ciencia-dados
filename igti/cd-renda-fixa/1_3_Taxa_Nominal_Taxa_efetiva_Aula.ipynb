{
 "cells": [
  {
   "cell_type": "code",
   "execution_count": 1,
   "metadata": {},
   "outputs": [],
   "source": [
    "import handcalcs.render as render\n",
    "from handcalcs import handcalc"
   ]
  },
  {
   "cell_type": "markdown",
   "metadata": {},
   "source": [
    "# Taxa nominal"
   ]
  },
  {
   "cell_type": "markdown",
   "metadata": {},
   "source": [
    "Quando a taxa é expressa em uma unidade de tempo que não é o mesmo período de tempo no qual os juros são capitalizados, essa taxa é chamada de \"taxa nominal\".\n",
    "\n",
    "Exemplo: Taxa de 6% a.a. com capitalização mensal ou ainda 2% a.m. com capitalização diária"
   ]
  },
  {
   "cell_type": "markdown",
   "metadata": {},
   "source": [
    "# Taxa efetiva"
   ]
  },
  {
   "cell_type": "markdown",
   "metadata": {},
   "source": [
    "Quando a taxa é expressa em uma unidade de tempo que é o mesmo período de tempo no qual os juros são capitalizados, essa taxa é chamada de \"taxa efetiva\".\n",
    "\n",
    "Exemplo: Taxa de 6% a.a. com capitalização anual ou ainda 2% a.m. com capitalização mensal"
   ]
  },
  {
   "cell_type": "markdown",
   "metadata": {},
   "source": [
    "# Mas qual é a diferença?"
   ]
  },
  {
   "cell_type": "markdown",
   "metadata": {},
   "source": [
    "A taxa nominal é aquela que impõe os juros de acordo com o número de parcelas de um empréstimo, por exemplo. Se tivéssemos um empréstimo com taxa de 12% ao ano, em teoria teríamos um rendimento de 1%, ao mês, certo? No entanto, a capitalização desse empréstimo pode não acontecer mensalmente. Ela pode ser bimestral, trimestral e por aí vai. Quando falamos sobre o juro que realmente será aplicado durante o tempo de capitalização, estamos falando de taxa efetiva.\n",
    "\n",
    "A Nominal é a que normalmente as instituições financeiras utilizam na apresentação de seus contratos. Ela considera um prazo diferente do período de capitalização e serve como forma de estabelecer uma visão geral do valor final do contrato."
   ]
  },
  {
   "cell_type": "markdown",
   "metadata": {},
   "source": [
    "# Relação da taxa nominal com a taxa efetiva"
   ]
  },
  {
   "cell_type": "markdown",
   "metadata": {},
   "source": [
    "Por convenção, dada uma taxa nominal $i_N$, a taxa efetiva $i_E$ será aquela que lhe é proporcional\n",
    "$$ n_1 i_1 = n_2 i_2  =>  i_N = \\frac{n_2}{n_1} i_E$$"
   ]
  },
  {
   "cell_type": "code",
   "execution_count": 2,
   "metadata": {},
   "outputs": [],
   "source": [
    "@handcalc(jupyter_display=True, precision = 5)\n",
    "def taxas_proporcionais(i1, n1, n2):\n",
    "    i2 = n1*i1/n2\n",
    "    return i2"
   ]
  },
  {
   "cell_type": "code",
   "execution_count": 3,
   "metadata": {},
   "outputs": [],
   "source": [
    "@handcalc(jupyter_display=True, precision = 5)\n",
    "def taxas_equivalentes(i1, n1, n2): \n",
    "    i2 = (1 + i1/100)**(n1/n2) - 1\n",
    "    return i2*100"
   ]
  },
  {
   "cell_type": "markdown",
   "metadata": {},
   "source": [
    "# Exemplo 1"
   ]
  },
  {
   "cell_type": "markdown",
   "metadata": {},
   "source": [
    "Dada a taxa nominal de 8% a.a., capitalizada mensalmente, determinar a taxa efetiva mensal e anual."
   ]
  },
  {
   "cell_type": "code",
   "execution_count": 4,
   "metadata": {},
   "outputs": [
    {
     "data": {
      "text/latex": [
       "\\[\n",
       "\\begin{aligned}\n",
       "\\mathrm{i2} &= \\mathrm{n1} \\cdot \\frac{ \\mathrm{i1} }{ \\mathrm{n2} }  = 1 \\cdot \\frac{ 8 }{ 12 } &= 0.66667  \n",
       "\\end{aligned}\n",
       "\\]"
      ],
      "text/plain": [
       "<IPython.core.display.Latex object>"
      ]
     },
     "metadata": {},
     "output_type": "display_data"
    },
    {
     "name": "stdout",
     "output_type": "stream",
     "text": [
      " A taxa efetiva mensal é 0.6666666666666666 % a.m.\n"
     ]
    }
   ],
   "source": [
    "i1 = 8# % a.a.\n",
    "n1 = 1 # ano\n",
    "n2 = 12 # meses\n",
    "i2 = taxas_proporcionais(i1, n1, n2)\n",
    "print(f' A taxa efetiva mensal é {i2} % a.m.')"
   ]
  },
  {
   "cell_type": "code",
   "execution_count": 5,
   "metadata": {},
   "outputs": [
    {
     "data": {
      "text/latex": [
       "\\[\n",
       "\\begin{aligned}\n",
       "\\mathrm{i2} &= \\left( 1 + \\frac{ \\mathrm{i1} }{ 100 } \\right) ^{ \\left( \\frac{ \\mathrm{n1} }{ \\mathrm{n2} } \\right) } - 1  = \\left( 1 + \\frac{ 0.66667 }{ 100 } \\right) ^{ \\left( \\frac{ 12 }{ 1 } \\right) } - 1 &= 0.08300  \n",
       "\\end{aligned}\n",
       "\\]"
      ],
      "text/plain": [
       "<IPython.core.display.Latex object>"
      ]
     },
     "metadata": {},
     "output_type": "display_data"
    },
    {
     "name": "stdout",
     "output_type": "stream",
     "text": [
      " A taxa efetiva anual é 8.3 % a.a.\n"
     ]
    }
   ],
   "source": [
    "i_em = i2\n",
    "N1 = 12 # meses\n",
    "N2 = 1 # ano\n",
    "i_ea = taxas_equivalentes(i_em, N1, N2)\n",
    "print(f' A taxa efetiva anual é {round(i_ea,2)} % a.a.')"
   ]
  },
  {
   "cell_type": "markdown",
   "metadata": {},
   "source": [
    "# Exemplo 2"
   ]
  },
  {
   "cell_type": "markdown",
   "metadata": {},
   "source": [
    "Dada a taxa nominal de 7,0% a.a., capitalizada trimestralmente, determine a taxa efetiva trimestral e anual."
   ]
  },
  {
   "cell_type": "code",
   "execution_count": 6,
   "metadata": {},
   "outputs": [
    {
     "data": {
      "text/latex": [
       "\\[\n",
       "\\begin{aligned}\n",
       "\\mathrm{i2} &= \\mathrm{n1} \\cdot \\frac{ \\mathrm{i1} }{ \\mathrm{n2} }  = 1 \\cdot \\frac{ 7 }{ 4 } &= 1.75000  \n",
       "\\end{aligned}\n",
       "\\]"
      ],
      "text/plain": [
       "<IPython.core.display.Latex object>"
      ]
     },
     "metadata": {},
     "output_type": "display_data"
    },
    {
     "name": "stdout",
     "output_type": "stream",
     "text": [
      " A taxa efetiva trimestral é 1.75 % a.t.\n"
     ]
    }
   ],
   "source": [
    "i_n = 7 # % a.a.\n",
    "n1 = 1 # ano\n",
    "n2 = 4 # trimestres\n",
    "i_et = taxas_proporcionais(i_n, n1, n2)\n",
    "print(f' A taxa efetiva trimestral é {i_et} % a.t.')"
   ]
  },
  {
   "cell_type": "code",
   "execution_count": 7,
   "metadata": {},
   "outputs": [
    {
     "data": {
      "text/latex": [
       "\\[\n",
       "\\begin{aligned}\n",
       "\\mathrm{i2} &= \\left( 1 + \\frac{ \\mathrm{i1} }{ 100 } \\right) ^{ \\left( \\frac{ \\mathrm{n1} }{ \\mathrm{n2} } \\right) } - 1  = \\left( 1 + \\frac{ 1.75000 }{ 100 } \\right) ^{ \\left( \\frac{ 4 }{ 1 } \\right) } - 1 &= 0.07186  \n",
       "\\end{aligned}\n",
       "\\]"
      ],
      "text/plain": [
       "<IPython.core.display.Latex object>"
      ]
     },
     "metadata": {},
     "output_type": "display_data"
    },
    {
     "name": "stdout",
     "output_type": "stream",
     "text": [
      " A taxa efetiva anual é 7.19 % a.a.\n"
     ]
    }
   ],
   "source": [
    "N1 = 4 # trimestres\n",
    "N2 = 1 # ano\n",
    "i_ea = taxas_equivalentes(i_et, N1, N2)\n",
    "print(f' A taxa efetiva anual é {round(i_ea,2)} % a.a.')"
   ]
  },
  {
   "cell_type": "markdown",
   "metadata": {},
   "source": [
    "# Exemplo 3"
   ]
  },
  {
   "cell_type": "markdown",
   "metadata": {},
   "source": [
    "Dada a taxa nominal de 0,23% a.m., capitalizados anualmente, determine a taxa efetiva anual e mensal."
   ]
  },
  {
   "cell_type": "code",
   "execution_count": 8,
   "metadata": {},
   "outputs": [
    {
     "data": {
      "text/latex": [
       "\\[\n",
       "\\begin{aligned}\n",
       "\\mathrm{i2} &= \\mathrm{n1} \\cdot \\frac{ \\mathrm{i1} }{ \\mathrm{n2} }  = 12 \\cdot \\frac{ 0.23000 }{ 1 } &= 2.76000  \n",
       "\\end{aligned}\n",
       "\\]"
      ],
      "text/plain": [
       "<IPython.core.display.Latex object>"
      ]
     },
     "metadata": {},
     "output_type": "display_data"
    },
    {
     "name": "stdout",
     "output_type": "stream",
     "text": [
      " A taxa efetiva anual é 2.76 % a.a.\n"
     ]
    }
   ],
   "source": [
    "i_n = 0.23 #% a.m.\n",
    "n1 = 12 # meses\n",
    "n2 = 1 # ano\n",
    "i_ea = taxas_proporcionais(i_n, n1, n2)\n",
    "print(f' A taxa efetiva anual é {round(i_ea,2)} % a.a.')"
   ]
  },
  {
   "cell_type": "code",
   "execution_count": 9,
   "metadata": {},
   "outputs": [
    {
     "data": {
      "text/latex": [
       "\\[\n",
       "\\begin{aligned}\n",
       "\\mathrm{i2} &= \\left( 1 + \\frac{ \\mathrm{i1} }{ 100 } \\right) ^{ \\left( \\frac{ \\mathrm{n1} }{ \\mathrm{n2} } \\right) } - 1  = \\left( 1 + \\frac{ 2.76000 }{ 100 } \\right) ^{ \\left( \\frac{ 1 }{ 12 } \\right) } - 1 &= 0.00227  \n",
       "\\end{aligned}\n",
       "\\]"
      ],
      "text/plain": [
       "<IPython.core.display.Latex object>"
      ]
     },
     "metadata": {},
     "output_type": "display_data"
    },
    {
     "name": "stdout",
     "output_type": "stream",
     "text": [
      " A taxa efetiva mensal é 0.23 % a.m.\n"
     ]
    }
   ],
   "source": [
    "N1 = 1 # ano\n",
    "N2 = 12 # meses\n",
    "i_em = taxas_equivalentes(i_ea, N1, N2)\n",
    "print(f' A taxa efetiva mensal é {round(i_em,2)} % a.m.')"
   ]
  },
  {
   "cell_type": "markdown",
   "metadata": {},
   "source": [
    "# Exemplo 4"
   ]
  },
  {
   "cell_type": "markdown",
   "metadata": {},
   "source": [
    "Dada a taxa nominal de 6% a.a., capitalizados mensalmente, determine a taxa efetiva anual."
   ]
  },
  {
   "cell_type": "code",
   "execution_count": 10,
   "metadata": {},
   "outputs": [
    {
     "data": {
      "text/latex": [
       "\\[\n",
       "\\begin{aligned}\n",
       "\\mathrm{i2} &= \\mathrm{n1} \\cdot \\frac{ \\mathrm{i1} }{ \\mathrm{n2} }  = 1 \\cdot \\frac{ 6 }{ 12 } &= 0.50000  \n",
       "\\end{aligned}\n",
       "\\]"
      ],
      "text/plain": [
       "<IPython.core.display.Latex object>"
      ]
     },
     "metadata": {},
     "output_type": "display_data"
    },
    {
     "name": "stdout",
     "output_type": "stream",
     "text": [
      " A taxa efetiva mensal é 0.5 % a.m.\n"
     ]
    }
   ],
   "source": [
    "i_n = 6 # % a.a.\n",
    "n1 = 1 # ano\n",
    "n2 = 12 # meses\n",
    "i_em = taxas_proporcionais(i_n, n1, n2)\n",
    "print(f' A taxa efetiva mensal é {i_em} % a.m.')"
   ]
  },
  {
   "cell_type": "code",
   "execution_count": 11,
   "metadata": {},
   "outputs": [
    {
     "data": {
      "text/latex": [
       "\\[\n",
       "\\begin{aligned}\n",
       "\\mathrm{i2} &= \\left( 1 + \\frac{ \\mathrm{i1} }{ 100 } \\right) ^{ \\left( \\frac{ \\mathrm{n1} }{ \\mathrm{n2} } \\right) } - 1  = \\left( 1 + \\frac{ 0.50000 }{ 100 } \\right) ^{ \\left( \\frac{ 12 }{ 1 } \\right) } - 1 &= 0.06168  \n",
       "\\end{aligned}\n",
       "\\]"
      ],
      "text/plain": [
       "<IPython.core.display.Latex object>"
      ]
     },
     "metadata": {},
     "output_type": "display_data"
    },
    {
     "name": "stdout",
     "output_type": "stream",
     "text": [
      " A taxa efetiva anual é 6.17 % a.a.\n"
     ]
    }
   ],
   "source": [
    "N1 = 12 # meses\n",
    "N2 = 1 # ano\n",
    "i_ea = taxas_equivalentes(i_em, N1, N2)\n",
    "print(f' A taxa efetiva anual é {round(i_ea,2)} % a.a.')"
   ]
  },
  {
   "cell_type": "markdown",
   "metadata": {},
   "source": [
    "## Taxa Over Ano"
   ]
  },
  {
   "cell_type": "markdown",
   "metadata": {},
   "source": [
    "O Banco Central, por meio da Circular n. 2.761, de 18 de junho de 1997, estabeleceu o ano-base em 252 dias úteis, criando a chamada taxa over ano."
   ]
  },
  {
   "cell_type": "markdown",
   "metadata": {},
   "source": [
    "É a taxa de capitalização, de uma dada aplicação, por dia útil, expressa em termos anuais"
   ]
  },
  {
   "cell_type": "markdown",
   "metadata": {},
   "source": [
    "$ M = (1 + i_{a.d.u.})^{252}P$\n",
    "\n",
    "$ M = (1 + i_{a.a.o.})P$\n",
    "$$ (1 + i_{a.d.u.})^{252} = (1 + i_{a.a.o.}) $$"
   ]
  },
  {
   "cell_type": "markdown",
   "metadata": {},
   "source": [
    "Dada uma taxa de 3,00% a.a., calcule a taxa equivalente por dia útil.\n"
   ]
  },
  {
   "cell_type": "code",
   "execution_count": 12,
   "metadata": {},
   "outputs": [
    {
     "data": {
      "text/latex": [
       "\\[\n",
       "\\begin{aligned}\n",
       "\\mathrm{i2} &= \\left( 1 + \\frac{ \\mathrm{i1} }{ 100 } \\right) ^{ \\left( \\frac{ \\mathrm{n1} }{ \\mathrm{n2} } \\right) } - 1  = \\left( 1 + \\frac{ 3 }{ 100 } \\right) ^{ \\left( \\frac{ 1 }{ 252 } \\right) } - 1 &= 0.00012  \n",
       "\\end{aligned}\n",
       "\\]"
      ],
      "text/plain": [
       "<IPython.core.display.Latex object>"
      ]
     },
     "metadata": {},
     "output_type": "display_data"
    },
    {
     "name": "stdout",
     "output_type": "stream",
     "text": [
      " A taxa equivalente por dia útil é 0.0117 % a.d.u.\n"
     ]
    }
   ],
   "source": [
    "i1 = 3 # % a.a.\n",
    "n1 = 1 # ano\n",
    "n2 = 252 # dias úteis\n",
    "i2 = taxas_equivalentes(i1, n1, n2)\n",
    "print(f' A taxa equivalente por dia útil é {round(i2,4)} % a.d.u.') "
   ]
  },
  {
   "cell_type": "markdown",
   "metadata": {},
   "source": [
    "Calcule a taxa ao ano over (a.a.o.) correspondente à taxa efetiva por dia útil de 0,025%."
   ]
  },
  {
   "cell_type": "code",
   "execution_count": 13,
   "metadata": {},
   "outputs": [
    {
     "data": {
      "text/latex": [
       "\\[\n",
       "\\begin{aligned}\n",
       "\\mathrm{i2} &= \\left( 1 + \\frac{ \\mathrm{i1} }{ 100 } \\right) ^{ \\left( \\frac{ \\mathrm{n1} }{ \\mathrm{n2} } \\right) } - 1  = \\left( 1 + \\frac{ 0.02500 }{ 100 } \\right) ^{ \\left( \\frac{ 252 }{ 1 } \\right) } - 1 &= 0.06502  \n",
       "\\end{aligned}\n",
       "\\]"
      ],
      "text/plain": [
       "<IPython.core.display.Latex object>"
      ]
     },
     "metadata": {},
     "output_type": "display_data"
    },
    {
     "name": "stdout",
     "output_type": "stream",
     "text": [
      "A taxa ao ano over é 6.5 % a.a.o.\n"
     ]
    }
   ],
   "source": [
    "i1 = 0.025 # % a.d.u.\n",
    "n1 = 252 # dias úteis\n",
    "n2 = 1 # ano\n",
    "i2 = taxas_equivalentes(i1, n1, n2)\n",
    "print(f'A taxa ao ano over é {round(i2,2)} % a.a.o.')"
   ]
  },
  {
   "cell_type": "markdown",
   "metadata": {},
   "source": [
    "# Taxa Over Mês"
   ]
  },
  {
   "cell_type": "markdown",
   "metadata": {},
   "source": [
    "É por definição, a multiplicação da taxa ao dia útil por 30"
   ]
  },
  {
   "cell_type": "markdown",
   "metadata": {},
   "source": [
    "# Exemplo 5"
   ]
  },
  {
   "cell_type": "markdown",
   "metadata": {},
   "source": [
    "Um investidor aplica 500.000,00 reais em um ativo financeiro, por 84 dias úteis (122 dias corridos). No fim do período, o montante é de 510.000,00 reais."
   ]
  },
  {
   "cell_type": "markdown",
   "metadata": {},
   "source": [
    "a) Calcule a taxa efetiva no período"
   ]
  },
  {
   "cell_type": "code",
   "execution_count": 14,
   "metadata": {},
   "outputs": [
    {
     "name": "stdout",
     "output_type": "stream",
     "text": [
      " A taxa efetiva ao período é 2.0 %\n"
     ]
    }
   ],
   "source": [
    "P = 500_000 # reais\n",
    "M = 510_000 # reais\n",
    "i_ep = 100*(M/P - 1)\n",
    "print(f' A taxa efetiva ao período é {round(i_ep,2)} %')"
   ]
  },
  {
   "cell_type": "markdown",
   "metadata": {},
   "source": [
    "b) Taxa efetiva por dia corrido"
   ]
  },
  {
   "cell_type": "code",
   "execution_count": 15,
   "metadata": {},
   "outputs": [
    {
     "data": {
      "text/latex": [
       "\\[\n",
       "\\begin{aligned}\n",
       "\\mathrm{i2} &= \\left( 1 + \\frac{ \\mathrm{i1} }{ 100 } \\right) ^{ \\left( \\frac{ \\mathrm{n1} }{ \\mathrm{n2} } \\right) } - 1  = \\left( 1 + \\frac{ 2.00000 }{ 100 } \\right) ^{ \\left( \\frac{ 1 }{ 122 } \\right) } - 1 &= 0.00016  \n",
       "\\end{aligned}\n",
       "\\]"
      ],
      "text/plain": [
       "<IPython.core.display.Latex object>"
      ]
     },
     "metadata": {},
     "output_type": "display_data"
    },
    {
     "name": "stdout",
     "output_type": "stream",
     "text": [
      "A taxa efetiva por dias corridos é 0.016 % a.d.c.\n"
     ]
    }
   ],
   "source": [
    "n1 = 1 # período\n",
    "n2 = 122 # dias corridos\n",
    "i_edc = taxas_equivalentes(i_ep, n1, n2)\n",
    "print(f'A taxa efetiva por dias corridos é {round(i_edc, 3)} % a.d.c.')"
   ]
  },
  {
   "cell_type": "markdown",
   "metadata": {},
   "source": [
    "c) Taxa efetiva por dia útil"
   ]
  },
  {
   "cell_type": "code",
   "execution_count": 16,
   "metadata": {},
   "outputs": [
    {
     "data": {
      "text/latex": [
       "\\[\n",
       "\\begin{aligned}\n",
       "\\mathrm{i2} &= \\left( 1 + \\frac{ \\mathrm{i1} }{ 100 } \\right) ^{ \\left( \\frac{ \\mathrm{n1} }{ \\mathrm{n2} } \\right) } - 1  = \\left( 1 + \\frac{ 2.00000 }{ 100 } \\right) ^{ \\left( \\frac{ 1 }{ 84 } \\right) } - 1 &= 0.00024  \n",
       "\\end{aligned}\n",
       "\\]"
      ],
      "text/plain": [
       "<IPython.core.display.Latex object>"
      ]
     },
     "metadata": {},
     "output_type": "display_data"
    },
    {
     "name": "stdout",
     "output_type": "stream",
     "text": [
      "A taxa efetiva por dias útil é 0.0236 % a.d.u.\n"
     ]
    }
   ],
   "source": [
    "N1 = 1 # período\n",
    "N2 = 84 # dias úteis\n",
    "i_edu = taxas_equivalentes(i_ep, N1, N2)\n",
    "print(f'A taxa efetiva por dias útil é {round(i_edu,4)} % a.d.u.')"
   ]
  },
  {
   "cell_type": "markdown",
   "metadata": {},
   "source": [
    "d) Taxa Over Mês"
   ]
  },
  {
   "cell_type": "code",
   "execution_count": 17,
   "metadata": {},
   "outputs": [
    {
     "name": "stdout",
     "output_type": "stream",
     "text": [
      " A taxa over mês é 0.7073200596563467 % a.m.o.\n"
     ]
    }
   ],
   "source": [
    "i_om = i_edu*30\n",
    "print(f' A taxa over mês é {i_om} % a.m.o.')"
   ]
  },
  {
   "cell_type": "markdown",
   "metadata": {},
   "source": [
    "e) Taxa Over Ano"
   ]
  },
  {
   "cell_type": "code",
   "execution_count": 18,
   "metadata": {},
   "outputs": [
    {
     "data": {
      "text/latex": [
       "\\[\n",
       "\\begin{aligned}\n",
       "\\mathrm{i2} &= \\left( 1 + \\frac{ \\mathrm{i1} }{ 100 } \\right) ^{ \\left( \\frac{ \\mathrm{n1} }{ \\mathrm{n2} } \\right) } - 1  = \\left( 1 + \\frac{ 0.02358 }{ 100 } \\right) ^{ \\left( \\frac{ 252 }{ 1 } \\right) } - 1 &= 0.06121  \n",
       "\\end{aligned}\n",
       "\\]"
      ],
      "text/plain": [
       "<IPython.core.display.Latex object>"
      ]
     },
     "metadata": {},
     "output_type": "display_data"
    },
    {
     "name": "stdout",
     "output_type": "stream",
     "text": [
      " A taxa ao ano over é 6.120800000000393 % a.a.o.\n"
     ]
    }
   ],
   "source": [
    "i1 = i_edu\n",
    "n1 = 252 # dias úteis\n",
    "n2 = 1 # ano\n",
    "i_ao = taxas_equivalentes(i1, n1, n2) \n",
    "print(f' A taxa ao ano over é {i_ao} % a.a.o.')"
   ]
  },
  {
   "cell_type": "markdown",
   "metadata": {},
   "source": [
    "Referência Bibliográfica : José Roberto Securato. Cálculo financeiro das tesourarias; Bancos e empresas. Saint Paul Editora LTDA"
   ]
  }
 ],
 "metadata": {
  "kernelspec": {
   "display_name": "Python 3 (ipykernel)",
   "language": "python",
   "name": "python3"
  },
  "language_info": {
   "codemirror_mode": {
    "name": "ipython",
    "version": 3
   },
   "file_extension": ".py",
   "mimetype": "text/x-python",
   "name": "python",
   "nbconvert_exporter": "python",
   "pygments_lexer": "ipython3",
   "version": "3.8.10"
  },
  "vscode": {
   "interpreter": {
    "hash": "bce320103a4f9599bf42cb45744b1f3acee8930c6f7dcdff248089a2e65863cd"
   }
  }
 },
 "nbformat": 4,
 "nbformat_minor": 2
}
