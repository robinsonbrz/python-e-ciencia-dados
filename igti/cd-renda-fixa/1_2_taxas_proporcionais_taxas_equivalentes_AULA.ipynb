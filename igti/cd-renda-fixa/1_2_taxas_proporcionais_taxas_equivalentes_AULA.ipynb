{
 "cells": [
  {
   "cell_type": "code",
   "execution_count": 1,
   "metadata": {},
   "outputs": [],
   "source": [
    "import handcalcs.render as render\n",
    "from handcalcs import handcalc"
   ]
  },
  {
   "cell_type": "markdown",
   "metadata": {},
   "source": [
    "# Introdução"
   ]
  },
  {
   "cell_type": "markdown",
   "metadata": {},
   "source": [
    "Nesta aula introduziremos diferentes tipos de equivalências entre as taxas de juros."
   ]
  },
  {
   "cell_type": "markdown",
   "metadata": {},
   "source": [
    "# Taxas Proporcionais"
   ]
  },
  {
   "cell_type": "markdown",
   "metadata": {},
   "source": [
    "No regime de capitalização simples, taxas proporcionais são duas taxas em unidades de tempo distintas que incidindo sobre um mesmo principal e pelo mesmo prazo produzem o mesmo montante."
   ]
  },
  {
   "cell_type": "markdown",
   "metadata": {},
   "source": [
    "$ M = P (1 + n_{1}i_{1})$\n",
    "\n",
    "$ M = P (1 + n_{2}i_{2})$\n",
    "$$ n_{1}i_{1} = n_{2}i_{2} $$"
   ]
  },
  {
   "cell_type": "code",
   "execution_count": 2,
   "metadata": {},
   "outputs": [],
   "source": [
    "#taxas proporcionais\n",
    "@handcalc(jupyter_display=True)\n",
    "def taxas_proporcionais(i1, n1,n2):\n",
    "    i2 = n1*i1/n2\n",
    "    return i2"
   ]
  },
  {
   "cell_type": "markdown",
   "metadata": {},
   "source": [
    "# Exemplo 1"
   ]
  },
  {
   "cell_type": "markdown",
   "metadata": {},
   "source": [
    "Qual é a taxa trimestral proporcional à taxa de 6% a.a. ?"
   ]
  },
  {
   "cell_type": "code",
   "execution_count": 3,
   "metadata": {},
   "outputs": [
    {
     "data": {
      "text/latex": [
       "\\[\n",
       "\\begin{aligned}\n",
       "\\mathrm{i2} &= \\mathrm{n1} \\cdot \\frac{ \\mathrm{i1} }{ \\mathrm{n2} }  = 1 \\cdot \\frac{ 6 }{ 4 } &= 1.500  \n",
       "\\end{aligned}\n",
       "\\]"
      ],
      "text/plain": [
       "<IPython.core.display.Latex object>"
      ]
     },
     "metadata": {},
     "output_type": "display_data"
    },
    {
     "name": "stdout",
     "output_type": "stream",
     "text": [
      "A taxa trimestral proporcional à taxa de 6% a.a. é 1.5 % a.t.\n"
     ]
    }
   ],
   "source": [
    "i1 = 6# % a.a.\n",
    "n1 = 1 # ano\n",
    "n2 = 4 # trimestres\n",
    "i2 = taxas_proporcionais(i1, n1, n2)\n",
    "print(f'A taxa trimestral proporcional à taxa de 6% a.a. é {i2} % a.t.')"
   ]
  },
  {
   "cell_type": "markdown",
   "metadata": {},
   "source": [
    "# Exemplo 2"
   ]
  },
  {
   "cell_type": "markdown",
   "metadata": {},
   "source": [
    "Determinar a taxa mensal proporcional à taxa de 7,2% a.a."
   ]
  },
  {
   "cell_type": "code",
   "execution_count": 4,
   "metadata": {},
   "outputs": [
    {
     "data": {
      "text/latex": [
       "\\[\n",
       "\\begin{aligned}\n",
       "\\mathrm{i2} &= \\mathrm{n1} \\cdot \\frac{ \\mathrm{i1} }{ \\mathrm{n2} }  = 1 \\cdot \\frac{ 7.200 }{ 12 } &= 0.600  \n",
       "\\end{aligned}\n",
       "\\]"
      ],
      "text/plain": [
       "<IPython.core.display.Latex object>"
      ]
     },
     "metadata": {},
     "output_type": "display_data"
    },
    {
     "name": "stdout",
     "output_type": "stream",
     "text": [
      "A taxa mensal proporcional à taxa de 7.2% a.a. é 0.6 % a.m.\n"
     ]
    }
   ],
   "source": [
    "i1 = 7.2 # % a.a.\n",
    "n1 = 1 # ano\n",
    "n2 = 12 # meses\n",
    "i2 = taxas_proporcionais(i1, n1, n2)\n",
    "print(f'A taxa mensal proporcional à taxa de 7.2% a.a. é {i2} % a.m.')"
   ]
  },
  {
   "cell_type": "markdown",
   "metadata": {},
   "source": [
    "# Exemplo 3"
   ]
  },
  {
   "cell_type": "markdown",
   "metadata": {},
   "source": [
    "Determinar a taxa diária proporcional à taxa de 0,9% a.m."
   ]
  },
  {
   "cell_type": "code",
   "execution_count": 5,
   "metadata": {},
   "outputs": [
    {
     "data": {
      "text/latex": [
       "\\[\n",
       "\\begin{aligned}\n",
       "\\mathrm{i2} &= \\mathrm{n1} \\cdot \\frac{ \\mathrm{i1} }{ \\mathrm{n2} }  = 1 \\cdot \\frac{ 0.900 }{ 30 } &= 0.030  \n",
       "\\end{aligned}\n",
       "\\]"
      ],
      "text/plain": [
       "<IPython.core.display.Latex object>"
      ]
     },
     "metadata": {},
     "output_type": "display_data"
    },
    {
     "name": "stdout",
     "output_type": "stream",
     "text": [
      "A taxa diária proporcional à taxa de 0.9% a.m. é 0.03 % a.d.c.\n"
     ]
    }
   ],
   "source": [
    "i1 = 0.9#% a.m.\n",
    "n1 = 1 # mês\n",
    "n2 = 30 # dias corridos (mês comercial)\n",
    "i2 = taxas_proporcionais(i1, n1, n2)\n",
    "print(f'A taxa diária proporcional à taxa de 0.9% a.m. é {round(i2, 2)} % a.d.c.')"
   ]
  },
  {
   "cell_type": "markdown",
   "metadata": {},
   "source": [
    "# Exemplo 4"
   ]
  },
  {
   "cell_type": "markdown",
   "metadata": {},
   "source": [
    "Determinar a taxa anual proporcional à taxa de 0,0053% ao dia (a.d.)."
   ]
  },
  {
   "cell_type": "code",
   "execution_count": 6,
   "metadata": {},
   "outputs": [
    {
     "data": {
      "text/latex": [
       "\\[\n",
       "\\begin{aligned}\n",
       "\\mathrm{i2} &= \\mathrm{n1} \\cdot \\frac{ \\mathrm{i1} }{ \\mathrm{n2} }  = 360 \\cdot \\frac{ 0.005 }{ 1 } &= 1.908  \n",
       "\\end{aligned}\n",
       "\\]"
      ],
      "text/plain": [
       "<IPython.core.display.Latex object>"
      ]
     },
     "metadata": {},
     "output_type": "display_data"
    },
    {
     "name": "stdout",
     "output_type": "stream",
     "text": [
      "A taxa anual proporcional à taxa de 0.0053% a.d. é 1.908 % a.a.\n"
     ]
    }
   ],
   "source": [
    "i1 = 0.0053 # % a.d.\n",
    "n1 = 360 # dias corridos (mês comercial)\n",
    "n2 = 1 # ano\n",
    "i2 = taxas_proporcionais(i1, n1, n2)\n",
    "print(f'A taxa anual proporcional à taxa de 0.0053% a.d. é {i2} % a.a.')"
   ]
  },
  {
   "cell_type": "markdown",
   "metadata": {},
   "source": [
    "# Taxas Equivalentes"
   ]
  },
  {
   "cell_type": "markdown",
   "metadata": {},
   "source": [
    "No regime de capitalização composta, taxas equivalentes são duas taxas em unidades de tempo distintas que incidindo sobre um mesmo principal e pelo mesmo prazo produzem o mesmo montante."
   ]
  },
  {
   "cell_type": "markdown",
   "metadata": {},
   "source": [
    "$ M = P(1 + i_{1})^{n_{1}}$\n",
    "\n",
    "$ M = P(1 + i_{2})^{n_{2}}$\n",
    "$$ (1 + i_{1})^{n_{1}} = (1 + i_{2})^{n_{2}} $$"
   ]
  },
  {
   "cell_type": "code",
   "execution_count": 7,
   "metadata": {},
   "outputs": [],
   "source": [
    "#taxas equivalentes\n",
    "@handcalc(jupyter_display=True)\n",
    "def taxas_equivalentes(i1, n1, n2):\n",
    "    i2 = (1 + i1/100)**(n1/n2) - 1\n",
    "    return i2*100"
   ]
  },
  {
   "cell_type": "markdown",
   "metadata": {},
   "source": [
    "# Exemplo 5"
   ]
  },
  {
   "cell_type": "markdown",
   "metadata": {},
   "source": [
    "Determinar a taxa trimestral equivalente à taxa de 6,5% a.a."
   ]
  },
  {
   "cell_type": "code",
   "execution_count": 8,
   "metadata": {},
   "outputs": [
    {
     "data": {
      "text/latex": [
       "\\[\n",
       "\\begin{aligned}\n",
       "\\mathrm{i2} &= \\left( 1 + \\frac{ \\mathrm{i1} }{ 100 } \\right) ^{ \\left( \\frac{ \\mathrm{n1} }{ \\mathrm{n2} } \\right) } - 1  = \\left( 1 + \\frac{ 6.500 }{ 100 } \\right) ^{ \\left( \\frac{ 1 }{ 4 } \\right) } - 1 &= 0.016  \n",
       "\\end{aligned}\n",
       "\\]"
      ],
      "text/plain": [
       "<IPython.core.display.Latex object>"
      ]
     },
     "metadata": {},
     "output_type": "display_data"
    },
    {
     "name": "stdout",
     "output_type": "stream",
     "text": [
      " A taxa trimestral equivalente à taxa de 6,5% a.a. é 1.59 % a.t.\n"
     ]
    }
   ],
   "source": [
    "i1 = 6.5 #% a.a.\n",
    "n1 = 1 # ano\n",
    "n2 = 4 # trimestres\n",
    "i2 = taxas_equivalentes(i1, n1, n2)\n",
    "print(f' A taxa trimestral equivalente à taxa de 6,5% a.a. é {round(i2,2)} % a.t.')"
   ]
  },
  {
   "cell_type": "markdown",
   "metadata": {},
   "source": [
    "# Exemplo 6"
   ]
  },
  {
   "cell_type": "markdown",
   "metadata": {},
   "source": [
    "Determinar a taxa anual equivalente à taxa de 0,8% a.m."
   ]
  },
  {
   "cell_type": "code",
   "execution_count": 9,
   "metadata": {},
   "outputs": [
    {
     "data": {
      "text/latex": [
       "\\[\n",
       "\\begin{aligned}\n",
       "\\mathrm{i2} &= \\left( 1 + \\frac{ \\mathrm{i1} }{ 100 } \\right) ^{ \\left( \\frac{ \\mathrm{n1} }{ \\mathrm{n2} } \\right) } - 1  = \\left( 1 + \\frac{ 0.800 }{ 100 } \\right) ^{ \\left( \\frac{ 12 }{ 1 } \\right) } - 1 &= 0.100  \n",
       "\\end{aligned}\n",
       "\\]"
      ],
      "text/plain": [
       "<IPython.core.display.Latex object>"
      ]
     },
     "metadata": {},
     "output_type": "display_data"
    },
    {
     "name": "stdout",
     "output_type": "stream",
     "text": [
      " A taxa anual equivalente à taxa de 0,8% a.m. é 10.03 % a.a.\n"
     ]
    }
   ],
   "source": [
    "i1 = 0.8 # % a.m.\n",
    "n1 = 12 # meses\n",
    "n2 = 1 # ano\n",
    "i2 = taxas_equivalentes(i1, n1, n2)\n",
    "print(f' A taxa anual equivalente à taxa de 0,8% a.m. é {round(i2,2)} % a.a.')"
   ]
  },
  {
   "cell_type": "markdown",
   "metadata": {},
   "source": [
    "# Exemplo 7"
   ]
  },
  {
   "cell_type": "markdown",
   "metadata": {},
   "source": [
    "Determinar a taxa diária equivalente à taxa de 0,65% a.m."
   ]
  },
  {
   "cell_type": "code",
   "execution_count": 10,
   "metadata": {},
   "outputs": [
    {
     "data": {
      "text/latex": [
       "\\[\n",
       "\\begin{aligned}\n",
       "\\mathrm{i2} &= \\left( 1 + \\frac{ \\mathrm{i1} }{ 100 } \\right) ^{ \\left( \\frac{ \\mathrm{n1} }{ \\mathrm{n2} } \\right) } - 1  = \\left( 1 + \\frac{ 0.650 }{ 100 } \\right) ^{ \\left( \\frac{ 1 }{ 30 } \\right) } - 1 &= 0.000  \n",
       "\\end{aligned}\n",
       "\\]"
      ],
      "text/plain": [
       "<IPython.core.display.Latex object>"
      ]
     },
     "metadata": {},
     "output_type": "display_data"
    },
    {
     "name": "stdout",
     "output_type": "stream",
     "text": [
      " A taxa diária equivalente à taxa de 0,65% a.m. é 0.02 % a.d.\n"
     ]
    }
   ],
   "source": [
    "i1 = 0.65 # % a.m.\n",
    "n1 = 1 # mês\n",
    "n2 = 30 # dias corridos (mês comercial)\n",
    "i2 = taxas_equivalentes(i1, n1, n2)\n",
    "print(f' A taxa diária equivalente à taxa de 0,65% a.m. é {round(i2,2)} % a.d.')"
   ]
  },
  {
   "cell_type": "markdown",
   "metadata": {},
   "source": [
    "# Exemplo 8"
   ]
  },
  {
   "cell_type": "markdown",
   "metadata": {},
   "source": [
    "Determine a taxa por dia útil equivalente à taxa de 5,3% a.m., considerando o mês comercial com 21 dias úteis."
   ]
  },
  {
   "cell_type": "code",
   "execution_count": 11,
   "metadata": {},
   "outputs": [
    {
     "data": {
      "text/latex": [
       "\\[\n",
       "\\begin{aligned}\n",
       "\\mathrm{i2} &= \\left( 1 + \\frac{ \\mathrm{i1} }{ 100 } \\right) ^{ \\left( \\frac{ \\mathrm{n1} }{ \\mathrm{n2} } \\right) } - 1  = \\left( 1 + \\frac{ 5.300 }{ 100 } \\right) ^{ \\left( \\frac{ 1 }{ 21 } \\right) } - 1 &= 0.002  \n",
       "\\end{aligned}\n",
       "\\]"
      ],
      "text/plain": [
       "<IPython.core.display.Latex object>"
      ]
     },
     "metadata": {},
     "output_type": "display_data"
    },
    {
     "name": "stdout",
     "output_type": "stream",
     "text": [
      " A taxa diária equivalente à taxa de 0,65% a.m. é 0.2462227895126734 % a.d.u\n"
     ]
    }
   ],
   "source": [
    "i1 = 5.3 # % a.m.\n",
    "n1 = 1 # mês\n",
    "n2 = 21 # dias úteis\n",
    "i2 = taxas_equivalentes(i1, n1, n2)\n",
    "print(f' A taxa diária equivalente à taxa de 0,65% a.m. é {i2} % a.d.u')"
   ]
  },
  {
   "cell_type": "markdown",
   "metadata": {},
   "source": [
    "# Exemplo 9"
   ]
  },
  {
   "cell_type": "markdown",
   "metadata": {},
   "source": [
    "Em um determinado investimento a taxa auferida foi de 18,7% ao período (a.p.), considerando o período de 67 dias úteis. Determine a taxa por dia útil equivalente.\n"
   ]
  },
  {
   "cell_type": "code",
   "execution_count": 12,
   "metadata": {},
   "outputs": [
    {
     "data": {
      "text/latex": [
       "\\[\n",
       "\\begin{aligned}\n",
       "\\mathrm{i2} &= \\left( 1 + \\frac{ \\mathrm{i1} }{ 100 } \\right) ^{ \\left( \\frac{ \\mathrm{n1} }{ \\mathrm{n2} } \\right) } - 1  = \\left( 1 + \\frac{ 18.700 }{ 100 } \\right) ^{ \\left( \\frac{ 1 }{ 67 } \\right) } - 1 &= 0.003  \n",
       "\\end{aligned}\n",
       "\\]"
      ],
      "text/plain": [
       "<IPython.core.display.Latex object>"
      ]
     },
     "metadata": {},
     "output_type": "display_data"
    },
    {
     "name": "stdout",
     "output_type": "stream",
     "text": [
      " A taxa diária equivalente à taxa de 18,7% a.p. é 0.2561919638698784 % a.d.u\n"
     ]
    }
   ],
   "source": [
    "i1 = 18.7 # a.p.\n",
    "n1 = 1 # período\n",
    "n2 = 67 # dias úteis\n",
    "i2 = taxas_equivalentes(i1, n1, n2)\n",
    "print(f' A taxa diária equivalente à taxa de 18,7% a.p. é {i2} % a.d.u')"
   ]
  },
  {
   "cell_type": "markdown",
   "metadata": {},
   "source": [
    "# Exemplo 10"
   ]
  },
  {
   "cell_type": "markdown",
   "metadata": {},
   "source": [
    "Dada a taxa de 26% a.a., determine a taxa equivalente no período de 92 dias corridos do ano comercial. O ano comercial possui 360 dias corridos."
   ]
  },
  {
   "cell_type": "code",
   "execution_count": 13,
   "metadata": {},
   "outputs": [
    {
     "data": {
      "text/latex": [
       "\\[\n",
       "\\begin{aligned}\n",
       "\\mathrm{i2} &= \\left( 1 + \\frac{ \\mathrm{i1} }{ 100 } \\right) ^{ \\left( \\frac{ \\mathrm{n1} }{ \\mathrm{n2} } \\right) } - 1  = \\left( 1 + \\frac{ 26 }{ 100 } \\right) ^{ \\left( \\frac{ 0.256 }{ 1 } \\right) } - 1 &= 0.061  \n",
       "\\end{aligned}\n",
       "\\]"
      ],
      "text/plain": [
       "<IPython.core.display.Latex object>"
      ]
     },
     "metadata": {},
     "output_type": "display_data"
    },
    {
     "name": "stdout",
     "output_type": "stream",
     "text": [
      " A taxa ao período equivalente à taxa de 26,0% a.a. é 6.08408880475646 % a.p.\n"
     ]
    }
   ],
   "source": [
    "i1 = 26 # % a.a.\n",
    "n1 = 92/360 #anos\n",
    "n2 = 1 # período\n",
    "i2 = taxas_equivalentes(i1, n1, n2)\n",
    "print(f' A taxa ao período equivalente à taxa de 26,0% a.a. é {i2} % a.p.')"
   ]
  },
  {
   "cell_type": "markdown",
   "metadata": {},
   "source": [
    "Fonte : José Roberto Securato. Cálculo financeiro das tesourarias; Bancos e empresas. Saint Paul Editora LTDA"
   ]
  },
  {
   "cell_type": "markdown",
   "metadata": {},
   "source": []
  }
 ],
 "metadata": {
  "kernelspec": {
   "display_name": "Python 3 (ipykernel)",
   "language": "python",
   "name": "python3"
  },
  "language_info": {
   "codemirror_mode": {
    "name": "ipython",
    "version": 3
   },
   "file_extension": ".py",
   "mimetype": "text/x-python",
   "name": "python",
   "nbconvert_exporter": "python",
   "pygments_lexer": "ipython3",
   "version": "3.8.10"
  },
  "vscode": {
   "interpreter": {
    "hash": "bce320103a4f9599bf42cb45744b1f3acee8930c6f7dcdff248089a2e65863cd"
   }
  }
 },
 "nbformat": 4,
 "nbformat_minor": 2
}
