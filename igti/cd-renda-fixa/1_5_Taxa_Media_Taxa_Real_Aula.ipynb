{
 "cells": [
  {
   "cell_type": "markdown",
   "metadata": {},
   "source": [
    "# Taxa Média"
   ]
  },
  {
   "cell_type": "markdown",
   "metadata": {},
   "source": [
    "No regime de capitalização composta, com taxas flutuantes, vale a expressão abaixo:"
   ]
  },
  {
   "cell_type": "markdown",
   "metadata": {},
   "source": [
    "$$ M_{n} = (1 + i_{1})(1 + i_{2})...(1 + i_{n})M_{0} $$\n",
    "Existe uma taxa efetiva constante em todos os períodos unitários de capitalização que, incidindo sobre o mesmo principal e mesmo prazo produz o mesmo montante.\n",
    "$$ M_{n} = (1 + \\overline{i})^{n} M_{0}$$\n",
    "e dessa forma\n",
    "\n",
    "$$ (1 + \\overline{i})^{n} = (1 + i_{1})(1 + i_{2})...(1 + i_{n}) $$\n",
    "ou ainda \n",
    "$$ 1 + \\overline{i} = [(1 + i_{1})(1 + i_{2})...(1 + i_{n})]^{1/n} = \\sqrt{(1 + i_{1})(1 + i_{2})...(1 + i_{n})} $$\n",
    "\n"
   ]
  },
  {
   "cell_type": "markdown",
   "metadata": {},
   "source": [
    "Relembrando:\n",
    "$$ \\overline{X} = \\sqrt{X_{1}X_{2}...X_{n}} $$\n",
    "(Média Geométrica),\n",
    "$$\\sqrt[m]{a^{n}} = a^{\\frac{n}{m}}$$"
   ]
  },
  {
   "cell_type": "markdown",
   "metadata": {},
   "source": [
    "A taxa efetiva $\\overline{i}$ é denominada taxa média geométrica"
   ]
  },
  {
   "cell_type": "code",
   "execution_count": 1,
   "metadata": {},
   "outputs": [],
   "source": [
    "def taxa_media(list_rent):\n",
    "    import numpy as np\n",
    "    list_fat = [1 + x/100 for x in list_rent]\n",
    "    i_m = ((np.prod(list_fat))**(1/len(list_fat)) - 1)\n",
    "    return 100*i_m"
   ]
  },
  {
   "cell_type": "markdown",
   "metadata": {},
   "source": [
    "# Exemplo 1"
   ]
  },
  {
   "cell_type": "markdown",
   "metadata": {},
   "source": [
    "Um individuo investiu durante 4 meses e obteve as seguintes rentabilidades efetivas:\n",
    "\n",
    "Mês 1: 0,5%\n",
    "\n",
    "Mês 2: 3,2%\n",
    "\n",
    "Mês 3: -2,5%\n",
    "\n",
    "Mês 4: 5,7%\n",
    "\n",
    "Determine a rentabilidade mensal média"
   ]
  },
  {
   "cell_type": "code",
   "execution_count": 2,
   "metadata": {},
   "outputs": [
    {
     "name": "stdout",
     "output_type": "stream",
     "text": [
      "A rentabilidade mensal média nesse período foi de 1.68 % a.m.\n"
     ]
    }
   ],
   "source": [
    "list_rent = [0.5, 3.2, -2.5, 5.7]\n",
    "i_med = taxa_media(list_rent)\n",
    "print(f'A rentabilidade mensal média nesse período foi de {round(i_med,2)} % a.m.')"
   ]
  },
  {
   "cell_type": "code",
   "execution_count": 4,
   "metadata": {},
   "outputs": [
    {
     "data": {
      "text/plain": [
       "1.725"
      ]
     },
     "execution_count": 4,
     "metadata": {},
     "output_type": "execute_result"
    }
   ],
   "source": [
    "import numpy as np\n",
    "np.mean(list_rent)"
   ]
  },
  {
   "cell_type": "markdown",
   "metadata": {},
   "source": [
    "# Exemplo 2"
   ]
  },
  {
   "cell_type": "markdown",
   "metadata": {},
   "source": [
    "Durante 5 dias úteis uma operação interbancária é realizada com as seguintes taxas over:\n",
    "\n",
    "1º dia: 0,626% a.m.o.\n",
    "\n",
    "2º dia: 0,632% a.m.o.\n",
    "\n",
    "3º dia: 0,648% a.m.o.\n",
    "\n",
    "4º dia: 0,637% a.m.o.\n",
    "\n",
    "5º dia: 0,649% a.m.o.\n",
    "\n",
    "Determine a taxa over média do período."
   ]
  },
  {
   "cell_type": "code",
   "execution_count": 5,
   "metadata": {},
   "outputs": [
    {
     "name": "stdout",
     "output_type": "stream",
     "text": [
      "A taxa efetiva diária útil média é 0.02128 % a.d.u\n",
      "A taxa over mês média é 0.6384 % a.m.o.\n"
     ]
    }
   ],
   "source": [
    "list_rent = [0.626/30, 0.632/30, 0.648/30, 0.637/30, 0.649/30]\n",
    "i_med = taxa_media(list_rent)\n",
    "print(f'A taxa efetiva diária útil média é {round(i_med,5)} % a.d.u')\n",
    "\n",
    "i_med_mo = i_med*30\n",
    "print(f'A taxa over mês média é {round(i_med_mo,5)} % a.m.o.')"
   ]
  },
  {
   "cell_type": "markdown",
   "metadata": {},
   "source": [
    "# Taxa Real"
   ]
  },
  {
   "cell_type": "markdown",
   "metadata": {},
   "source": [
    "É necessário levar em conta na rentabilidade real a inflação."
   ]
  },
  {
   "cell_type": "markdown",
   "metadata": {},
   "source": [
    "# Fórmula de Fisher"
   ]
  },
  {
   "cell_type": "markdown",
   "metadata": {},
   "source": [
    "A fórmula de Fisher estabelece o efeito da inflação sobre as taxas de juros e é expressa por meio da relação:"
   ]
  },
  {
   "cell_type": "markdown",
   "metadata": {},
   "source": [
    "$$ 1 + i = (1 + \\theta)(1 + r) $$\n",
    "ou ainda\n",
    "$$ 1 + r = \\frac{1 + i}{1 + \\theta} $$\n",
    "Em que:\n",
    "\n",
    "$i$ = taxa efetiva\n",
    "\n",
    "$\\theta$ = taxa de inflação obtida por meio de um índice de preços\n",
    "\n",
    "$r$  = taxa real"
   ]
  },
  {
   "cell_type": "code",
   "execution_count": 6,
   "metadata": {},
   "outputs": [],
   "source": [
    "def taxas(i=0, theta=0, r=0):\n",
    "    if i == 0:\n",
    "        return 100*((1 + theta/100)*(1 + r/100) - 1)\n",
    "    elif theta == 0:\n",
    "        return 100*((1 + i/100)/(1 + r/100) - 1)\n",
    "    elif r == 0:\n",
    "        return 100*((1 + i/100)/(1 + theta/100) - 1)"
   ]
  },
  {
   "cell_type": "markdown",
   "metadata": {},
   "source": [
    "# Exemplo 3"
   ]
  },
  {
   "cell_type": "markdown",
   "metadata": {},
   "source": [
    "Um indivíduo fez uma aplicação em um mês cuja a rentabilidade foi de 1,5 % a.m.\n",
    "Sabendo que a inflação no período foi de 0,5% a.m. Determine sua rentabilidade real:"
   ]
  },
  {
   "cell_type": "code",
   "execution_count": 7,
   "metadata": {},
   "outputs": [
    {
     "name": "stdout",
     "output_type": "stream",
     "text": [
      "A rentabilidade real foi de 0.995 % a.m.\n"
     ]
    }
   ],
   "source": [
    "i = 1.5 # % a.m.\n",
    "theta = 0.5 #% a.m.\n",
    "r = taxas(i, theta, 0)\n",
    "print(f'A rentabilidade real foi de {round(r,3)} % a.m.')"
   ]
  },
  {
   "cell_type": "code",
   "execution_count": 8,
   "metadata": {},
   "outputs": [
    {
     "name": "stdout",
     "output_type": "stream",
     "text": [
      "A taxa deve ser de  1.5 % a.m. \n"
     ]
    }
   ],
   "source": [
    "theta = 0.5 #% a.m.\n",
    "r = 0.995 # % a.m.\n",
    "i = taxas(0, theta, r)\n",
    "print(f'A taxa deve ser de  {round(i,2)} % a.m. ')"
   ]
  },
  {
   "cell_type": "code",
   "execution_count": 9,
   "metadata": {},
   "outputs": [
    {
     "name": "stdout",
     "output_type": "stream",
     "text": [
      "A inflação foi de  0.5 % a.m. \n"
     ]
    }
   ],
   "source": [
    "i = 1.5 # % a.m.\n",
    "r = 0.995 # % a.m.\n",
    "theta = taxas(i, 0, r)\n",
    "print(f'A inflação foi de  {round(theta,2)} % a.m. ')"
   ]
  },
  {
   "cell_type": "markdown",
   "metadata": {},
   "source": [
    "# Exemplo 4"
   ]
  },
  {
   "cell_type": "markdown",
   "metadata": {},
   "source": [
    "Um indivíduo deixou a quantia de 100.000,00 reais aplicada por 4 meses e resgatou o montante de 106.000,00 reais. As taxas de inflação mensal do período foram as seguintes:\n",
    "\n",
    "Janeiro: 0,6%\n",
    "\n",
    "Fevereiro: 0,8%\n",
    "\n",
    "Março: 0,4%\n",
    "\n",
    "Abril: 0,32%"
   ]
  },
  {
   "cell_type": "markdown",
   "metadata": {},
   "source": [
    "Determine:\n",
    "\n",
    "a) a taxa efetiva obtida pelo indivíduo no período da aplicação"
   ]
  },
  {
   "cell_type": "code",
   "execution_count": 10,
   "metadata": {},
   "outputs": [
    {
     "name": "stdout",
     "output_type": "stream",
     "text": [
      " A taxa efetiva ao período é 6.0 % a.p.\n"
     ]
    }
   ],
   "source": [
    "P = 100_000 # reais\n",
    "M = 106_000 # reais\n",
    "i_efp = 100*(M/P - 1)\n",
    "print(f' A taxa efetiva ao período é {round(i_efp,2)} % a.p.')"
   ]
  },
  {
   "cell_type": "markdown",
   "metadata": {},
   "source": [
    "b) A taxa de inflação acumulada no período da aplicação"
   ]
  },
  {
   "cell_type": "code",
   "execution_count": 11,
   "metadata": {},
   "outputs": [],
   "source": [
    "def taxa_ac(list_rent):\n",
    "    import numpy as np\n",
    "    list_fat = [1 + x/100 for x in list_rent]\n",
    "    i_ac = (np.prod(list_fat) - 1)\n",
    "    return 100*i_ac"
   ]
  },
  {
   "cell_type": "code",
   "execution_count": 12,
   "metadata": {},
   "outputs": [
    {
     "name": "stdout",
     "output_type": "stream",
     "text": [
      "A inflação acumulada no período vale 2.14 % a.p.\n"
     ]
    }
   ],
   "source": [
    "list_rent = [0.6, 0.8, 0.4, 0.32]\n",
    "theta_ac = taxa_ac(list_rent)\n",
    "print(f'A inflação acumulada no período vale {round(theta_ac,2)} % a.p.')"
   ]
  },
  {
   "cell_type": "markdown",
   "metadata": {},
   "source": [
    "c) A taxa real de retorno do indivíduo no período da aplicação"
   ]
  },
  {
   "cell_type": "code",
   "execution_count": 13,
   "metadata": {},
   "outputs": [
    {
     "name": "stdout",
     "output_type": "stream",
     "text": [
      " A taxa real no período é 3.78 % a.p.\n"
     ]
    }
   ],
   "source": [
    "i_realp = taxas(i_efp, theta_ac, 0)\n",
    "print(f' A taxa real no período é {round(i_realp,2)} % a.p.')"
   ]
  },
  {
   "cell_type": "markdown",
   "metadata": {},
   "source": [
    "Referência Bibliográfica : José Roberto Securato. Cálculo financeiro das tesourarias; Bancos e empresas. Saint Paul Editora LTDA"
   ]
  }
 ],
 "metadata": {
  "kernelspec": {
   "display_name": "Python 3 (ipykernel)",
   "language": "python",
   "name": "python3"
  },
  "language_info": {
   "codemirror_mode": {
    "name": "ipython",
    "version": 3
   },
   "file_extension": ".py",
   "mimetype": "text/x-python",
   "name": "python",
   "nbconvert_exporter": "python",
   "pygments_lexer": "ipython3",
   "version": "3.8.10"
  },
  "vscode": {
   "interpreter": {
    "hash": "bce320103a4f9599bf42cb45744b1f3acee8930c6f7dcdff248089a2e65863cd"
   }
  }
 },
 "nbformat": 4,
 "nbformat_minor": 2
}
