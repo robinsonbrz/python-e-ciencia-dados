{
 "cells": [
  {
   "attachments": {},
   "cell_type": "markdown",
   "metadata": {},
   "source": [
    ". Exercício - Gerar o segundo dígito de um CPF com Python\n",
    "\"\"\"\n",
    "Calculo do segundo dígito do CPF\n",
    "CPF: 746.824.890-70\n",
    "Colete a soma dos 9 primeiros dígitos do CPF,\n",
    "MAIS O PRIMEIRO DIGITO,\n",
    "multiplicando cada um dos valores por uma\n",
    "contagem regressiva começando de 11\n",
    "Ex.:  746.824.890-70 (7468248907)\n",
    "   11 10  9  8  7  6  5  4  3  2\n",
    "*  7   4  6  8  2  4  8  9  0  7 <-- PRIMEIRO DIGITO\n",
    "   77 40 54 64 14 24 40 36  0 14\n",
    "Somar todos os resultados:\n",
    "77+40+54+64+14+24+40+36+0+14 = 363\n",
    "Multiplicar o resultado anterior por 10\n",
    "363 * 10 = 3630\n",
    "Obter o resto da divisão da conta anterior por 11\n",
    "3630 % 11 = 0\n",
    "Se o resultado anterior for maior que 9:\n",
    "    resultado é 0\n",
    "contrário disso:\n",
    "    resultado é o valor da conta\n",
    "O segundo dígito do CPF é 0\n",
    "\"\"\"\n",
    "\n",
    "\"\"\""
   ]
  },
  {
   "cell_type": "code",
   "execution_count": 2,
   "metadata": {},
   "outputs": [
    {
     "name": "stdout",
     "output_type": "stream",
     "text": [
      "CPF: 005815080 Digitos 32\n",
      "Dígitos CPF Calculados 33\n",
      "CPF não é válido\n"
     ]
    }
   ],
   "source": [
    "\"\"\"\n",
    "Função multiplica um númeor por 10 \n",
    "e retorna modulo do resultado por 11\n",
    "\"\"\"\n",
    "def calcula_resto_x10(numero):\n",
    "    return (numero *10) % 11\n",
    "\n",
    "\"\"\"\n",
    "Função retorna 0 se num > 9\n",
    "senão retorna o próprio número\n",
    "\"\"\"\n",
    "def numero_para_um_digito(numero):\n",
    "    return numero if numero < 10 else 0\n",
    "\n",
    "\n",
    "# entrar o valor com um input\n",
    "# cpf = '74682489070'\n",
    "cpf = '0058150803'\n",
    "# cpf = '86458806019'\n",
    "\n",
    "# declarar um inteiro primeiro_digito\n",
    "primeiro_digito = 0\n",
    "multiplicador = 10\n",
    "\n",
    "# fazer um loop em ordem decrescente multiplicando os 9 primeiros digitos\n",
    "# primeiro multiplicar por 9 segundo por 8\n",
    "for digito in cpf[:9]:\n",
    "    primeiro_digito += multiplicador * int(digito)\n",
    "    multiplicador -= 1\n",
    "\n",
    "primeiro_digito = calcula_resto_x10(primeiro_digito)\n",
    "primeiro_digito = numero_para_um_digito(primeiro_digito)\n",
    "\n",
    "segundo_digito = 0\n",
    "multiplicador = 11\n",
    "nove_primeiros = cpf[0:9] + str(primeiro_digito)\n",
    "\n",
    "for digito in (nove_primeiros):\n",
    "    segundo_digito += multiplicador * int(digito)\n",
    "    multiplicador -= 1\n",
    "\n",
    "segundo_digito = calcula_resto_x10(segundo_digito)\n",
    "segundo_digito = numero_para_um_digito(segundo_digito)\n",
    "\n",
    "print(f\"CPF: {cpf[:9]} Digitos {cpf[9:11]}\")\n",
    "print(f\"Dígitos CPF Calculados {primeiro_digito}{segundo_digito}\")\n",
    "\n",
    "if cpf == f\"{cpf[:9]}{primeiro_digito}{segundo_digito}\":\n",
    "    print(\"CPF informado é válido\")\n",
    "else:\n",
    "    print(\"CPF não é válido\")\n"
   ]
  }
 ],
 "metadata": {
  "kernelspec": {
   "display_name": ".venv",
   "language": "python",
   "name": "python3"
  },
  "language_info": {
   "codemirror_mode": {
    "name": "ipython",
    "version": 3
   },
   "file_extension": ".py",
   "mimetype": "text/x-python",
   "name": "python",
   "nbconvert_exporter": "python",
   "pygments_lexer": "ipython3",
   "version": "3.7.15"
  },
  "orig_nbformat": 4
 },
 "nbformat": 4,
 "nbformat_minor": 2
}
